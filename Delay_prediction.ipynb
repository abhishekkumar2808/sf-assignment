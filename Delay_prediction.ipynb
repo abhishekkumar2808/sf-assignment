{
 "metadata": {
  "language_info": {
   "codemirror_mode": {
    "name": "ipython",
    "version": 3
   },
   "file_extension": ".py",
   "mimetype": "text/x-python",
   "name": "python",
   "nbconvert_exporter": "python",
   "pygments_lexer": "ipython3",
   "version": 3
  },
  "orig_nbformat": 2,
  "kernelspec": {
   "name": "python_defaultSpec_1597170994562",
   "display_name": "Python 3.7.4 64-bit"
  }
 },
 "nbformat": 4,
 "nbformat_minor": 2,
 "cells": [
  {
   "cell_type": "code",
   "execution_count": 1,
   "metadata": {},
   "outputs": [],
   "source": [
    "import os\n",
    "import pandas as pd\n",
    "import json\n",
    "import glob"
   ]
  },
  {
   "cell_type": "code",
   "execution_count": 2,
   "metadata": {
    "tags": []
   },
   "outputs": [],
   "source": [
    "city_list=os.listdir(\"C:\\\\Users\\\\Abi\\\\Desktop\\\\ML_project\\\\weather-20200731T142422Z-001\\\\weather\")\n",
    "file_path=\"C:\\\\Users\\\\Abi\\\\Desktop\\\\ML_project\\\\weather-20200731T142422Z-001\\\\weather\\\\\"\n",
    "weather_list=[]\n",
    "for p in city_list:\n",
    "    json_list=os.listdir(file_path+p)\n",
    "    s=json_list.index('2016-1.json')\n",
    "    actual_list=json_list[s:]\n",
    "    for i in actual_list:\n",
    "        fp=open(file_path+p+\"\\\\\"+i,\"r\")\n",
    "        d=fp.read()\n",
    "        data=json.loads(d)\n",
    "        feature_list=['windspeedKmph','winddirDegree','weatherCode','precipMM','visibility','pressure','cloudcover','DewPointF','WindGustKmph',         'tempF','WindChillF','humidity','time']\n",
    "        \n",
    "        for i in data[\"data\"][\"weather\"]:\n",
    "            for j in range(24):\n",
    "                weather_per_hr=dict()\n",
    "                for k in feature_list:\n",
    "                    weather_per_hr[k]=i[\"hourly\"][j][k]\n",
    "                weather_per_hr['date']=i['date']\n",
    "                weather_per_hr['airport']=data[\"data\"][\"request\"][0][\"query\"]\n",
    "                weather_list.append(weather_per_hr)\n",
    "        fp.close()\n",
    "df_weather=pd.DataFrame(weather_list)\n",
    "\n",
    "df_weather.to_csv(\"weather_features.csv\")"
   ]
  },
  {
   "cell_type": "code",
   "execution_count": 3,
   "metadata": {},
   "outputs": [],
   "source": [
    "df_weather[\"air\"]=\"\""
   ]
  },
  {
   "cell_type": "code",
   "execution_count": 4,
   "metadata": {},
   "outputs": [],
   "source": [
    "df_weather[\"air\"]=[x[0:3] for x in df_weather[\"airport\"]]"
   ]
  },
  {
   "cell_type": "code",
   "execution_count": 5,
   "metadata": {},
   "outputs": [],
   "source": [
    "df_weather[\"int_time\"]=0"
   ]
  },
  {
   "cell_type": "code",
   "execution_count": 6,
   "metadata": {
    "tags": []
   },
   "outputs": [],
   "source": [
    "df_weather[\"int_time\"]=[int(x) for x in df_weather[\"time\"]]\n"
   ]
  },
  {
   "cell_type": "code",
   "execution_count": 2,
   "metadata": {
    "tags": []
   },
   "outputs": [],
   "source": [
    "files=glob.glob('C:\\\\Users\\\\Abi\\\\Desktop\\\\ML_project\\\\Flight Data-20200805T074725Z-001\\\\Flight Data\\**\\*',recursive=True)\n",
    "df_flight=pd.DataFrame()\n",
    "for i in files:\n",
    "    try:\n",
    "        i.index(\".csv\")\n",
    "    except:\n",
    "        continue\n",
    "    d=pd.read_csv(i)\n",
    "    d=d[['FlightDate','Quarter','Year','Month'\n",
    "    ,'DayofMonth','DepTime','DepDel15','CRSDepTime','DepDelayMinutes','OriginAirportID','DestAirportID','ArrTime','CRSArrTime','ArrDel15',           'ArrDelayMinutes','Origin','Dest']]\n",
    "    df_flight=pd.concat([df_flight,d])\n",
    "\n",
    "    "
   ]
  },
  {
   "cell_type": "code",
   "execution_count": 8,
   "metadata": {
    "tags": []
   },
   "outputs": [],
   "source": [
    "airports=['ATL','CLT','DEN','DFW','EWR','IAH','JFK','LAS','LAX','MCO','MIA','ORD','PHX','SEA','SFO']\n",
    "df_flight=df_flight[df_flight[\"Dest\"].isin(airports)]\n",
    "df_flight=df_flight[df_flight[\"Origin\"].isin(airports)]\n",
    "\n",
    "\n",
    "\n"
   ]
  },
  {
   "cell_type": "code",
   "execution_count": 9,
   "metadata": {},
   "outputs": [],
   "source": [
    "df_flight=df_flight.dropna()"
   ]
  },
  {
   "cell_type": "code",
   "execution_count": 10,
   "metadata": {},
   "outputs": [],
   "source": [
    "df_flight[\"round_time\"]=0"
   ]
  },
  {
   "cell_type": "code",
   "execution_count": 11,
   "metadata": {},
   "outputs": [],
   "source": [
    "df_flight[\"round_time\"]=[(round((x/100))*100)%2400 for x in df_flight[\"CRSDepTime\"] ]"
   ]
  },
  {
   "cell_type": "code",
   "execution_count": 12,
   "metadata": {},
   "outputs": [],
   "source": [
    "result=pd.merge(left=df_weather,right=df_flight,left_on=[\"date\",\"int_time\",\"air\"],right_on=[\"FlightDate\",\"round_time\",\"Origin\"])"
   ]
  },
  {
   "cell_type": "code",
   "execution_count": 13,
   "metadata": {},
   "outputs": [],
   "source": [
    "del result[\"int_time\"]\n",
    "del result[\"air\"]\n",
    "del result[\"round_time\"]\n",
    "del result[\"Origin\"]\n",
    "del result[\"Dest\"]"
   ]
  },
  {
   "cell_type": "code",
   "execution_count": 16,
   "metadata": {},
   "outputs": [],
   "source": [
    "result=result.dropna()"
   ]
  },
  {
   "cell_type": "code",
   "execution_count": null,
   "metadata": {},
   "outputs": [],
   "source": []
  }
 ]
}