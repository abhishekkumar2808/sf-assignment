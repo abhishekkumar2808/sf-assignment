{
 "cells": [
  {
   "cell_type": "markdown",
   "metadata": {
    "colab_type": "text",
    "id": "yvRFuFBLrsac"
   },
   "source": [
    "# Machine Learning Basics\n",
    "In this module, you'll be implementing a simple Linear Regressor and Logistic Regressor. You will be using the Salary Data for the tasks in this module. <br> <br>\n",
    "**Pipeline:**\n",
    "* Acquiring the data - done\n",
    "* Handling files and formats - done\n",
    "* Data Analysis - done\n",
    "* Prediction\n",
    "* Analysing results"
   ]
  },
  {
   "cell_type": "markdown",
   "metadata": {
    "colab_type": "text",
    "id": "AwvgLLICtyt_"
   },
   "source": [
    "## Imports\n",
    "You may require NumPy, pandas, matplotlib and scikit-learn for this module. Do not, however, use the inbuilt Linear and Logistic Regressors from scikit-learn."
   ]
  },
  {
   "cell_type": "code",
   "execution_count": 111,
   "metadata": {},
   "outputs": [],
   "source": [
    "import sklearn as skl\n",
    "import numpy as np\n",
    "import pandas as pd\n",
    "import matplotlib as mpl\n",
    "import matplotlib.pyplot as plt\n",
    "from sklearn import linear_model\n"
   ]
  },
  {
   "cell_type": "markdown",
   "metadata": {
    "colab_type": "text",
    "id": "yE5Sz6nKvjTS"
   },
   "source": [
    "## Dataset\n",
    "You can load the dataset and perform any dataset related operations here. Split the data into training and testing sets. Do this separately for the regression and classification problems."
   ]
  },
  {
   "cell_type": "code",
   "execution_count": 112,
   "metadata": {
    "tags": []
   },
   "outputs": [],
   "source": [
    "df=pd.read_csv(\"C:\\\\Users\\\\Abi\\\\Desktop\\\\MLBasics\\\\Data\\\\SalaryData.csv\")\n",
    "sal_arr=df[['YearsExperience','Salary']].to_numpy()\n",
    "size=sal_arr.shape[0]\n",
    "set_list=np.split(sal_arr,[int(size*0.8),size])\n",
    "training_set=set_list[0]\n",
    "testing_set=set_list[1]\n",
    "\n"
   ]
  },
  {
   "cell_type": "markdown",
   "metadata": {
    "colab_type": "text",
    "id": "VienPTZA1ZEr"
   },
   "source": [
    "## Task 1a - Linear Regressor\n",
    "Code your own Linear Regressor here, and fit it to your training data. You will be predicting salary based on years of experience."
   ]
  },
  {
   "cell_type": "code",
   "execution_count": 113,
   "metadata": {
    "tags": []
   },
   "outputs": [
    {
     "output_type": "execute_result",
     "data": {
      "text/plain": "    YearsExperience  Salary  Salary(predicted)\n24              8.7  109431      111134.480280\n25              9.0  105582      114151.605027\n26              9.5  116969      119180.146274\n27              9.6  112635      120185.854523\n28             10.3  122391      127225.812268\n29             10.5  121872      129237.228766",
      "text/html": "<div>\n<style scoped>\n    .dataframe tbody tr th:only-of-type {\n        vertical-align: middle;\n    }\n\n    .dataframe tbody tr th {\n        vertical-align: top;\n    }\n\n    .dataframe thead th {\n        text-align: right;\n    }\n</style>\n<table border=\"1\" class=\"dataframe\">\n  <thead>\n    <tr style=\"text-align: right;\">\n      <th></th>\n      <th>YearsExperience</th>\n      <th>Salary</th>\n      <th>Salary(predicted)</th>\n    </tr>\n  </thead>\n  <tbody>\n    <tr>\n      <td>24</td>\n      <td>8.7</td>\n      <td>109431</td>\n      <td>111134.480280</td>\n    </tr>\n    <tr>\n      <td>25</td>\n      <td>9.0</td>\n      <td>105582</td>\n      <td>114151.605027</td>\n    </tr>\n    <tr>\n      <td>26</td>\n      <td>9.5</td>\n      <td>116969</td>\n      <td>119180.146274</td>\n    </tr>\n    <tr>\n      <td>27</td>\n      <td>9.6</td>\n      <td>112635</td>\n      <td>120185.854523</td>\n    </tr>\n    <tr>\n      <td>28</td>\n      <td>10.3</td>\n      <td>122391</td>\n      <td>127225.812268</td>\n    </tr>\n    <tr>\n      <td>29</td>\n      <td>10.5</td>\n      <td>121872</td>\n      <td>129237.228766</td>\n    </tr>\n  </tbody>\n</table>\n</div>"
     },
     "metadata": {},
     "execution_count": 113
    }
   ],
   "source": [
    "x_y=np.hsplit(training_set,2)\n",
    "x=x_y[0]\n",
    "y=x_y[1]\n",
    "n=len(x)\n",
    "X_test=np.hsplit(testing_set,2)\n",
    "X_exp=X_test[0]\n",
    "Y_sal=X_test[1]\n",
    "LR=0.01\n",
    "b0,b1=0.0,1.0\n",
    "for i in range(2000):\n",
    "    y_pred=b0+b1*x\n",
    "    part_wrt_b0=-2*np.sum((y-y_pred))/n\n",
    "    part_wrt_b1=-2*np.sum((y-y_pred)*x)/n\n",
    "    #cost_b0=part_wrt_b0.sum()\n",
    "    #cost_b1=part_wrt_b1.sum()\n",
    "    \n",
    "    b0=b0-LR*part_wrt_b0\n",
    "    b1=b1-LR*part_wrt_b1\n",
    "    \n",
    "train_len=len(X_exp)\n",
    "Y=b0+b1*X_exp\n",
    "df_final_linear=(df[['YearsExperience','Salary']]).tail(train_len)\n",
    "df_final_linear['Salary(predicted)']=Y\n",
    "df_final_linear\n",
    "\n",
    "\n",
    "\n"
   ]
  },
  {
   "cell_type": "markdown",
   "metadata": {},
   "source": [
    "## Task 1b - Logistic Regression\n",
    "Code your own Logistic Regressor here, and fit it to your training data. You will first have to create a column, 'Salary<60000', which contains '1' if salary is less than 60000 and '0' otherwise. This is your target variable, which you will aim to predict based on years of experience."
   ]
  },
  {
   "cell_type": "code",
   "execution_count": 136,
   "metadata": {
    "tags": []
   },
   "outputs": [
    {
     "output_type": "execute_result",
     "data": {
      "text/plain": "    Unnamed: 0  YearsExperience  Salary  Salary<60000  Salary<60000(predicted)\n23          23              8.2  113812             0                        0\n7            7              3.2   54445             1                        1\n29          29             10.5  121872             0                        0\n21          21              7.1   98273             0                        0\n8            8              3.2   64445             0                        1\n3            3              2.0   43525             1                        1",
      "text/html": "<div>\n<style scoped>\n    .dataframe tbody tr th:only-of-type {\n        vertical-align: middle;\n    }\n\n    .dataframe tbody tr th {\n        vertical-align: top;\n    }\n\n    .dataframe thead th {\n        text-align: right;\n    }\n</style>\n<table border=\"1\" class=\"dataframe\">\n  <thead>\n    <tr style=\"text-align: right;\">\n      <th></th>\n      <th>Unnamed: 0</th>\n      <th>YearsExperience</th>\n      <th>Salary</th>\n      <th>Salary&lt;60000</th>\n      <th>Salary&lt;60000(predicted)</th>\n    </tr>\n  </thead>\n  <tbody>\n    <tr>\n      <td>23</td>\n      <td>23</td>\n      <td>8.2</td>\n      <td>113812</td>\n      <td>0</td>\n      <td>0</td>\n    </tr>\n    <tr>\n      <td>7</td>\n      <td>7</td>\n      <td>3.2</td>\n      <td>54445</td>\n      <td>1</td>\n      <td>1</td>\n    </tr>\n    <tr>\n      <td>29</td>\n      <td>29</td>\n      <td>10.5</td>\n      <td>121872</td>\n      <td>0</td>\n      <td>0</td>\n    </tr>\n    <tr>\n      <td>21</td>\n      <td>21</td>\n      <td>7.1</td>\n      <td>98273</td>\n      <td>0</td>\n      <td>0</td>\n    </tr>\n    <tr>\n      <td>8</td>\n      <td>8</td>\n      <td>3.2</td>\n      <td>64445</td>\n      <td>0</td>\n      <td>1</td>\n    </tr>\n    <tr>\n      <td>3</td>\n      <td>3</td>\n      <td>2.0</td>\n      <td>43525</td>\n      <td>1</td>\n      <td>1</td>\n    </tr>\n  </tbody>\n</table>\n</div>"
     },
     "metadata": {},
     "execution_count": 136
    }
   ],
   "source": [
    "def sigmoid(x):\n",
    "    return(1/(1+np.exp(-x)))\n",
    "\n",
    "df_logistic=df\n",
    "df_logistic['Salary<60000']=df_logistic['Salary'].apply(lambda x:int(x<60000))\n",
    "df_logistic=df_logistic.sample(frac=1)\n",
    "\n",
    "dataset_len=df_logistic.shape[0]\n",
    "trainset_len=int(0.8*dataset_len)\n",
    "testset_len=int(0.2*dataset_len)\n",
    "\n",
    "\n",
    "x_train=np.array(df_logistic['YearsExperience'].head(trainset_len))\n",
    "y_train=np.array(df_logistic['Salary<60000'].head(trainset_len))\n",
    "x_test=np.array(df_logistic['YearsExperience'].tail(testset_len))\n",
    "y_test=np.array(df_logistic['Salary<60000'].tail(testset_len))\n",
    "w,b=1.0,0.0\n",
    "LR=0.1\n",
    "for i in range(1800):\n",
    "    y_pred=sigmoid(b+w*x_train)\n",
    "    derivative_w=(2/trainset_len)*np.sum((y_pred-y_train)*x_train)\n",
    "    derivative_b=(2/trainset_len)*np.sum((y_pred-y_train))\n",
    "    w=w-LR*derivative_w\n",
    "    b=b-LR*derivative_b\n",
    "\n",
    "y_pred=sigmoid(b+w*x_test)\n",
    "\n",
    "y_final=np.where(y_pred>0.5,1,0)\n",
    "\n",
    "df_final=df_logistic.tail(testset_len)\n",
    "df_final['Salary<60000(predicted)']=y_final\n",
    "df_final\n",
    "\n",
    "\n",
    "\n",
    "\n",
    "\n"
   ]
  },
  {
   "cell_type": "markdown",
   "metadata": {
    "colab_type": "text",
    "id": "vaCu6RS52qYf"
   },
   "source": [
    "## Task 2 - Results\n",
    "Analyse the quality of the ML models you built using metrics such as R2, MAE and RMSE for the Linear Regressor, and Accuracy for the Logistic Regressor. Evaluate their performance on the testing set."
   ]
  },
  {
   "cell_type": "code",
   "execution_count": 143,
   "metadata": {
    "tags": []
   },
   "outputs": [
    {
     "output_type": "stream",
     "name": "stdout",
     "text": "R2:        0.5443683928520892\nMAE:       5372.52118952739\nRMSE:      5998.146264992441\naccuracy:  83.33333333333334\n"
    }
   ],
   "source": [
    "\n",
    "#R2\n",
    "y_mean=df_final_linear['Salary'].mean()\n",
    "print(\"R2:       \",((df_final_linear['Salary']-y_mean)**2).sum()/((df_final_linear['Salary(predicted)']-y_mean)**2).sum())\n",
    "\n",
    "#MAE\n",
    "print(\"MAE:      \",(abs(df_final_linear['Salary']-df_final_linear['Salary(predicted)'])).sum()/train_len)\n",
    "\n",
    "#RMSE\n",
    "print(\"RMSE:     \",(((df_final_linear['Salary']-df_final_linear['Salary(predicted)'])**2).sum()/train_len)**0.5)\n",
    "\n",
    "#accuracy for logistic regression\n",
    "correct_pred=0\n",
    "temp1=np.array(df_final['Salary<60000'])\n",
    "temp2=np.array(df_final['Salary<60000(predicted)'])\n",
    "for i in range(testset_len):\n",
    "    if(temp1[i]==temp2[i]):\n",
    "        correct_pred+=1\n",
    "print(\"accuracy: \",(correct_pred/testset_len)*100)\n"
   ]
  }
 ],
 "metadata": {
  "colab": {
   "name": "Untitled15.ipynb",
   "provenance": [],
   "version": "0.3.2"
  },
  "kernelspec": {
   "display_name": "Python 3",
   "language": "python",
   "name": "python3"
  },
  "language_info": {
   "codemirror_mode": {
    "name": "ipython",
    "version": 3
   },
   "file_extension": ".py",
   "mimetype": "text/x-python",
   "name": "python",
   "nbconvert_exporter": "python",
   "pygments_lexer": "ipython3",
   "version": "3.7.3"
  }
 },
 "nbformat": 4,
 "nbformat_minor": 1
}