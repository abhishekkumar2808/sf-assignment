{
 "cells": [
  {
   "cell_type": "markdown",
   "metadata": {},
   "source": [
    "# Python Basics"
   ]
  },
  {
   "cell_type": "markdown",
   "metadata": {},
   "source": [
    "These assignments aim to get you acquainted with Python, which is an important requirement for all the research done at Solarillion Foundation. Apart from teaching you Python, these assignments also aim to make you a better programmer and cultivate better coding practices. \n",
    "\n",
    "Visit these links for more details: <br>\n",
    "PEP8 Practices: https://www.python.org/dev/peps/pep-0008/ <br>\n",
    "Check PEP8: http://pep8online.com <br>\n",
    "Python Reference: https://www.py4e.com/lessons <br>\n",
    "\n",
    "Do use Google efficiently, and refer to StackOverflow for clarifying any programming doubts. If you're still stuck, feel free to ask a TA to help you.\n",
    "\n",
    "Each task in the assignment comprises of at least two cells. There are function definitions wherein you will name the function(s), and write code to solve the problem at hand. You will call the function(s) in the last cell of each task, and check your output.\n",
    "\n",
    "We encourage you to play around and learn as much as possible, and be as creative as you can get. More than anything, have fun doing these assignments. Enjoy!"
   ]
  },
  {
   "cell_type": "markdown",
   "metadata": {},
   "source": [
    "# Important\n",
    "* **Only the imports and functions must be present when you upload this notebook to GitHub for verification.** \n",
    "* **Do not upload it until you want to get it verified. Do not change function names or add extra cells or code, or remove anything.**\n",
    "* **For your rough work and four showing your code to TAs, use a different notebook with the name Module2Playground.ipynb and copy only the final functions to this notebook for verification.**"
   ]
  },
  {
   "cell_type": "markdown",
   "metadata": {},
   "source": [
    "# Module 2\n",
    "Scope: NumPy, pandas, pickle, matplotlib, File operations"
   ]
  },
  {
   "cell_type": "markdown",
   "metadata": {},
   "source": [
    "## Imports - Always Execute First!\n",
    "Import any modules and turn on any magic here:"
   ]
  },
  {
   "cell_type": "code",
   "execution_count": 1,
   "metadata": {},
   "outputs": [
    {
     "output_type": "error",
     "ename": "ModuleNotFoundError",
     "evalue": "No module named 'pycodestyle_magic'",
     "traceback": [
      "\u001b[1;31m---------------------------------------------------------------------------\u001b[0m",
      "\u001b[1;31mModuleNotFoundError\u001b[0m                       Traceback (most recent call last)",
      "\u001b[1;32m<ipython-input-1-61aab616962f>\u001b[0m in \u001b[0;36m<module>\u001b[1;34m\u001b[0m\n\u001b[0;32m      7\u001b[0m \u001b[0mipy\u001b[0m \u001b[1;33m=\u001b[0m \u001b[0mget_ipython\u001b[0m\u001b[1;33m(\u001b[0m\u001b[1;33m)\u001b[0m\u001b[1;33m\u001b[0m\u001b[1;33m\u001b[0m\u001b[0m\n\u001b[0;32m      8\u001b[0m \u001b[1;32mif\u001b[0m \u001b[0mipy\u001b[0m \u001b[1;32mis\u001b[0m \u001b[1;32mnot\u001b[0m \u001b[1;32mNone\u001b[0m\u001b[1;33m:\u001b[0m\u001b[1;33m\u001b[0m\u001b[1;33m\u001b[0m\u001b[0m\n\u001b[1;32m----> 9\u001b[1;33m     \u001b[0mipy\u001b[0m\u001b[1;33m.\u001b[0m\u001b[0mrun_line_magic\u001b[0m\u001b[1;33m(\u001b[0m\u001b[1;34m\"load_ext\"\u001b[0m\u001b[1;33m,\u001b[0m \u001b[1;34m\"pycodestyle_magic\"\u001b[0m\u001b[1;33m)\u001b[0m\u001b[1;33m\u001b[0m\u001b[1;33m\u001b[0m\u001b[0m\n\u001b[0m\u001b[0;32m     10\u001b[0m     \u001b[0mipy\u001b[0m\u001b[1;33m.\u001b[0m\u001b[0mrun_line_magic\u001b[0m\u001b[1;33m(\u001b[0m\u001b[1;34m\"pycodestyle_on\"\u001b[0m\u001b[1;33m,\u001b[0m \u001b[1;34m\"\"\u001b[0m\u001b[1;33m)\u001b[0m\u001b[1;33m\u001b[0m\u001b[1;33m\u001b[0m\u001b[0m\n\u001b[0;32m     11\u001b[0m     \u001b[0mipy\u001b[0m\u001b[1;33m.\u001b[0m\u001b[0mrun_line_magic\u001b[0m\u001b[1;33m(\u001b[0m\u001b[1;34m\"matplotlib\"\u001b[0m\u001b[1;33m,\u001b[0m \u001b[1;34m\"inline\"\u001b[0m\u001b[1;33m)\u001b[0m\u001b[1;33m\u001b[0m\u001b[1;33m\u001b[0m\u001b[0m\n",
      "\u001b[1;32md:\\Anaconda3\\lib\\site-packages\\IPython\\core\\interactiveshell.py\u001b[0m in \u001b[0;36mrun_line_magic\u001b[1;34m(self, magic_name, line, _stack_depth)\u001b[0m\n\u001b[0;32m   2312\u001b[0m                 \u001b[0mkwargs\u001b[0m\u001b[1;33m[\u001b[0m\u001b[1;34m'local_ns'\u001b[0m\u001b[1;33m]\u001b[0m \u001b[1;33m=\u001b[0m \u001b[0msys\u001b[0m\u001b[1;33m.\u001b[0m\u001b[0m_getframe\u001b[0m\u001b[1;33m(\u001b[0m\u001b[0mstack_depth\u001b[0m\u001b[1;33m)\u001b[0m\u001b[1;33m.\u001b[0m\u001b[0mf_locals\u001b[0m\u001b[1;33m\u001b[0m\u001b[1;33m\u001b[0m\u001b[0m\n\u001b[0;32m   2313\u001b[0m             \u001b[1;32mwith\u001b[0m \u001b[0mself\u001b[0m\u001b[1;33m.\u001b[0m\u001b[0mbuiltin_trap\u001b[0m\u001b[1;33m:\u001b[0m\u001b[1;33m\u001b[0m\u001b[1;33m\u001b[0m\u001b[0m\n\u001b[1;32m-> 2314\u001b[1;33m                 \u001b[0mresult\u001b[0m \u001b[1;33m=\u001b[0m \u001b[0mfn\u001b[0m\u001b[1;33m(\u001b[0m\u001b[1;33m*\u001b[0m\u001b[0margs\u001b[0m\u001b[1;33m,\u001b[0m \u001b[1;33m**\u001b[0m\u001b[0mkwargs\u001b[0m\u001b[1;33m)\u001b[0m\u001b[1;33m\u001b[0m\u001b[1;33m\u001b[0m\u001b[0m\n\u001b[0m\u001b[0;32m   2315\u001b[0m             \u001b[1;32mreturn\u001b[0m \u001b[0mresult\u001b[0m\u001b[1;33m\u001b[0m\u001b[1;33m\u001b[0m\u001b[0m\n\u001b[0;32m   2316\u001b[0m \u001b[1;33m\u001b[0m\u001b[0m\n",
      "\u001b[1;32m<d:\\Anaconda3\\lib\\site-packages\\decorator.py:decorator-gen-65>\u001b[0m in \u001b[0;36mload_ext\u001b[1;34m(self, module_str)\u001b[0m\n",
      "\u001b[1;32md:\\Anaconda3\\lib\\site-packages\\IPython\\core\\magic.py\u001b[0m in \u001b[0;36m<lambda>\u001b[1;34m(f, *a, **k)\u001b[0m\n\u001b[0;32m    185\u001b[0m     \u001b[1;31m# but it's overkill for just that one bit of state.\u001b[0m\u001b[1;33m\u001b[0m\u001b[1;33m\u001b[0m\u001b[1;33m\u001b[0m\u001b[0m\n\u001b[0;32m    186\u001b[0m     \u001b[1;32mdef\u001b[0m \u001b[0mmagic_deco\u001b[0m\u001b[1;33m(\u001b[0m\u001b[0marg\u001b[0m\u001b[1;33m)\u001b[0m\u001b[1;33m:\u001b[0m\u001b[1;33m\u001b[0m\u001b[1;33m\u001b[0m\u001b[0m\n\u001b[1;32m--> 187\u001b[1;33m         \u001b[0mcall\u001b[0m \u001b[1;33m=\u001b[0m \u001b[1;32mlambda\u001b[0m \u001b[0mf\u001b[0m\u001b[1;33m,\u001b[0m \u001b[1;33m*\u001b[0m\u001b[0ma\u001b[0m\u001b[1;33m,\u001b[0m \u001b[1;33m**\u001b[0m\u001b[0mk\u001b[0m\u001b[1;33m:\u001b[0m \u001b[0mf\u001b[0m\u001b[1;33m(\u001b[0m\u001b[1;33m*\u001b[0m\u001b[0ma\u001b[0m\u001b[1;33m,\u001b[0m \u001b[1;33m**\u001b[0m\u001b[0mk\u001b[0m\u001b[1;33m)\u001b[0m\u001b[1;33m\u001b[0m\u001b[1;33m\u001b[0m\u001b[0m\n\u001b[0m\u001b[0;32m    188\u001b[0m \u001b[1;33m\u001b[0m\u001b[0m\n\u001b[0;32m    189\u001b[0m         \u001b[1;32mif\u001b[0m \u001b[0mcallable\u001b[0m\u001b[1;33m(\u001b[0m\u001b[0marg\u001b[0m\u001b[1;33m)\u001b[0m\u001b[1;33m:\u001b[0m\u001b[1;33m\u001b[0m\u001b[1;33m\u001b[0m\u001b[0m\n",
      "\u001b[1;32md:\\Anaconda3\\lib\\site-packages\\IPython\\core\\magics\\extension.py\u001b[0m in \u001b[0;36mload_ext\u001b[1;34m(self, module_str)\u001b[0m\n\u001b[0;32m     31\u001b[0m         \u001b[1;32mif\u001b[0m \u001b[1;32mnot\u001b[0m \u001b[0mmodule_str\u001b[0m\u001b[1;33m:\u001b[0m\u001b[1;33m\u001b[0m\u001b[1;33m\u001b[0m\u001b[0m\n\u001b[0;32m     32\u001b[0m             \u001b[1;32mraise\u001b[0m \u001b[0mUsageError\u001b[0m\u001b[1;33m(\u001b[0m\u001b[1;34m'Missing module name.'\u001b[0m\u001b[1;33m)\u001b[0m\u001b[1;33m\u001b[0m\u001b[1;33m\u001b[0m\u001b[0m\n\u001b[1;32m---> 33\u001b[1;33m         \u001b[0mres\u001b[0m \u001b[1;33m=\u001b[0m \u001b[0mself\u001b[0m\u001b[1;33m.\u001b[0m\u001b[0mshell\u001b[0m\u001b[1;33m.\u001b[0m\u001b[0mextension_manager\u001b[0m\u001b[1;33m.\u001b[0m\u001b[0mload_extension\u001b[0m\u001b[1;33m(\u001b[0m\u001b[0mmodule_str\u001b[0m\u001b[1;33m)\u001b[0m\u001b[1;33m\u001b[0m\u001b[1;33m\u001b[0m\u001b[0m\n\u001b[0m\u001b[0;32m     34\u001b[0m \u001b[1;33m\u001b[0m\u001b[0m\n\u001b[0;32m     35\u001b[0m         \u001b[1;32mif\u001b[0m \u001b[0mres\u001b[0m \u001b[1;33m==\u001b[0m \u001b[1;34m'already loaded'\u001b[0m\u001b[1;33m:\u001b[0m\u001b[1;33m\u001b[0m\u001b[1;33m\u001b[0m\u001b[0m\n",
      "\u001b[1;32md:\\Anaconda3\\lib\\site-packages\\IPython\\core\\extensions.py\u001b[0m in \u001b[0;36mload_extension\u001b[1;34m(self, module_str)\u001b[0m\n\u001b[0;32m     78\u001b[0m             \u001b[1;32mif\u001b[0m \u001b[0mmodule_str\u001b[0m \u001b[1;32mnot\u001b[0m \u001b[1;32min\u001b[0m \u001b[0msys\u001b[0m\u001b[1;33m.\u001b[0m\u001b[0mmodules\u001b[0m\u001b[1;33m:\u001b[0m\u001b[1;33m\u001b[0m\u001b[1;33m\u001b[0m\u001b[0m\n\u001b[0;32m     79\u001b[0m                 \u001b[1;32mwith\u001b[0m \u001b[0mprepended_to_syspath\u001b[0m\u001b[1;33m(\u001b[0m\u001b[0mself\u001b[0m\u001b[1;33m.\u001b[0m\u001b[0mipython_extension_dir\u001b[0m\u001b[1;33m)\u001b[0m\u001b[1;33m:\u001b[0m\u001b[1;33m\u001b[0m\u001b[1;33m\u001b[0m\u001b[0m\n\u001b[1;32m---> 80\u001b[1;33m                     \u001b[0mmod\u001b[0m \u001b[1;33m=\u001b[0m \u001b[0mimport_module\u001b[0m\u001b[1;33m(\u001b[0m\u001b[0mmodule_str\u001b[0m\u001b[1;33m)\u001b[0m\u001b[1;33m\u001b[0m\u001b[1;33m\u001b[0m\u001b[0m\n\u001b[0m\u001b[0;32m     81\u001b[0m                     \u001b[1;32mif\u001b[0m \u001b[0mmod\u001b[0m\u001b[1;33m.\u001b[0m\u001b[0m__file__\u001b[0m\u001b[1;33m.\u001b[0m\u001b[0mstartswith\u001b[0m\u001b[1;33m(\u001b[0m\u001b[0mself\u001b[0m\u001b[1;33m.\u001b[0m\u001b[0mipython_extension_dir\u001b[0m\u001b[1;33m)\u001b[0m\u001b[1;33m:\u001b[0m\u001b[1;33m\u001b[0m\u001b[1;33m\u001b[0m\u001b[0m\n\u001b[0;32m     82\u001b[0m                         print((\"Loading extensions from {dir} is deprecated. \"\n",
      "\u001b[1;32md:\\Anaconda3\\lib\\importlib\\__init__.py\u001b[0m in \u001b[0;36mimport_module\u001b[1;34m(name, package)\u001b[0m\n\u001b[0;32m    125\u001b[0m                 \u001b[1;32mbreak\u001b[0m\u001b[1;33m\u001b[0m\u001b[1;33m\u001b[0m\u001b[0m\n\u001b[0;32m    126\u001b[0m             \u001b[0mlevel\u001b[0m \u001b[1;33m+=\u001b[0m \u001b[1;36m1\u001b[0m\u001b[1;33m\u001b[0m\u001b[1;33m\u001b[0m\u001b[0m\n\u001b[1;32m--> 127\u001b[1;33m     \u001b[1;32mreturn\u001b[0m \u001b[0m_bootstrap\u001b[0m\u001b[1;33m.\u001b[0m\u001b[0m_gcd_import\u001b[0m\u001b[1;33m(\u001b[0m\u001b[0mname\u001b[0m\u001b[1;33m[\u001b[0m\u001b[0mlevel\u001b[0m\u001b[1;33m:\u001b[0m\u001b[1;33m]\u001b[0m\u001b[1;33m,\u001b[0m \u001b[0mpackage\u001b[0m\u001b[1;33m,\u001b[0m \u001b[0mlevel\u001b[0m\u001b[1;33m)\u001b[0m\u001b[1;33m\u001b[0m\u001b[1;33m\u001b[0m\u001b[0m\n\u001b[0m\u001b[0;32m    128\u001b[0m \u001b[1;33m\u001b[0m\u001b[0m\n\u001b[0;32m    129\u001b[0m \u001b[1;33m\u001b[0m\u001b[0m\n",
      "\u001b[1;32md:\\Anaconda3\\lib\\importlib\\_bootstrap.py\u001b[0m in \u001b[0;36m_gcd_import\u001b[1;34m(name, package, level)\u001b[0m\n",
      "\u001b[1;32md:\\Anaconda3\\lib\\importlib\\_bootstrap.py\u001b[0m in \u001b[0;36m_find_and_load\u001b[1;34m(name, import_)\u001b[0m\n",
      "\u001b[1;32md:\\Anaconda3\\lib\\importlib\\_bootstrap.py\u001b[0m in \u001b[0;36m_find_and_load_unlocked\u001b[1;34m(name, import_)\u001b[0m\n",
      "\u001b[1;31mModuleNotFoundError\u001b[0m: No module named 'pycodestyle_magic'"
     ]
    }
   ],
   "source": [
    "import matplotlib as mpl\n",
    "import matplotlib.pyplot as plt\n",
    "import numpy as np\n",
    "import pandas as pd\n",
    "import pickle as pkl\n",
    "from IPython import get_ipython\n",
    "ipy = get_ipython()\n",
    "if ipy is not None:\n",
    "    ipy.run_line_magic(\"load_ext\", \"pycodestyle_magic\")\n",
    "    ipy.run_line_magic(\"pycodestyle_on\", \"\")\n",
    "    ipy.run_line_magic(\"matplotlib\", \"inline\")"
   ]
  },
  {
   "cell_type": "markdown",
   "metadata": {},
   "source": [
    "## Task 1"
   ]
  },
  {
   "cell_type": "markdown",
   "metadata": {},
   "source": [
    "Basics of NumPy, pandas, pickle and matplotlib."
   ]
  },
  {
   "cell_type": "markdown",
   "metadata": {},
   "source": [
    "**Question 1**"
   ]
  },
  {
   "cell_type": "code",
   "execution_count": 2,
   "metadata": {},
   "outputs": [
    {
     "output_type": "execute_result",
     "data": {
      "text/plain": "\"\\n    Read the pickle file 'Data/Stress.pkl' and transform the contents into a\\n    a pandas DataFrame of the following form:\\n    \\n            +------+------+------+-----+------+-------+\\n            | ACCx | ACCy | ACCz | ECG | RESP | LABEL |\\n            +------+------+------+-----+------+-------+\\n            |      |      |      |     |      |       |\\n            +------+------+------+-----+------+-------+\\n            |      |      |      |     |      |       |\\n            +------+------+------+-----+------+-------+\\n            |      |      |      |     |      |       |\\n            +------+------+------+-----+------+-------+\\n\\n            Shape: (700, 6)\\n\\n    Save this DataFrame as a CSV file.\\n\\n    Modules\\n    -------\\n    pickle, pandas\\n    \\n    Lookups\\n    -------\\n    NumPy and pandas basics (Check the Lookups folder)\\n    Try to complete the tasks in the Lookups, and play around with the notebooks.\\n\""
     },
     "metadata": {},
     "execution_count": 2
    }
   ],
   "source": [
    "\"\"\"\n",
    "    Read the pickle file 'Data/Stress.pkl' and transform the contents into a\n",
    "    a pandas DataFrame of the following form:\n",
    "    \n",
    "            +------+------+------+-----+------+-------+\n",
    "            | ACCx | ACCy | ACCz | ECG | RESP | LABEL |\n",
    "            +------+------+------+-----+------+-------+\n",
    "            |      |      |      |     |      |       |\n",
    "            +------+------+------+-----+------+-------+\n",
    "            |      |      |      |     |      |       |\n",
    "            +------+------+------+-----+------+-------+\n",
    "            |      |      |      |     |      |       |\n",
    "            +------+------+------+-----+------+-------+\n",
    "\n",
    "            Shape: (700, 6)\n",
    "\n",
    "    Save this DataFrame as a CSV file.\n",
    "\n",
    "    Modules\n",
    "    -------\n",
    "    pickle, pandas\n",
    "    \n",
    "    Lookups\n",
    "    -------\n",
    "    NumPy and pandas basics (Check the Lookups folder)\n",
    "    Try to complete the tasks in the Lookups, and play around with the notebooks.\n",
    "\"\"\"        "
   ]
  },
  {
   "cell_type": "code",
   "execution_count": 2,
   "metadata": {},
   "outputs": [],
   "source": [
    "def pickle_to_csv(filename):\n",
    "    \"\"\"\n",
    "        Function: pickle_to_csv(filename)\n",
    "        Parameters: filename (String)\n",
    "        Save: DataFrame as `Stress.csv` in folder `Data`\n",
    "        Return: DataFrame\n",
    "    \"\"\"\n",
    "    with open(filename,'rb') as pkl_file:\n",
    "        data = pkl.load(pkl_file)\n",
    "    ACC=data['signal']['ACC']\n",
    "    ACCx=[]\n",
    "    ACCy=[]\n",
    "    ACCz=[]\n",
    "    E=data['signal']['ECG']\n",
    "    R=data['signal']['RESP']\n",
    "    L=data['signal']['LABEL']\n",
    "    ECG=[]\n",
    "    RESP=[]\n",
    "    LABEL=[]\n",
    "    for i in range(700):\n",
    "        ACCx.append((ACC[i][0]))\n",
    "        ACCy.append(ACC[i][1])\n",
    "        ACCz.append(ACC[i][2])\n",
    "        ECG.append(E[i][0])\n",
    "        RESP.append(R[i][0])\n",
    "        LABEL.append(L[i][0])\n",
    "   \n",
    "    data_dict={\n",
    "                'ACCx':ACCx,\n",
    "                'ACCy':ACCy,\n",
    "                'ACCz':ACCz,\n",
    "                'ECG':ECG,\n",
    "                'RESP':RESP,\n",
    "                'LABEL':LABEL\n",
    "\n",
    "    }\n",
    "    df=pd.DataFrame(data_dict,columns=['ACCx','ACCy','ACCz','ECG','RESP','LABEL'])\n",
    "    \n",
    "    df.to_csv(\"Data\\Stress.csv\")\n",
    "    return df\n",
    "\n",
    "    \n",
    "    \n",
    "    \n",
    "\n",
    "    "
   ]
  },
  {
   "cell_type": "code",
   "execution_count": 3,
   "metadata": {
    "tags": []
   },
   "outputs": [
    {
     "output_type": "stream",
     "name": "stdout",
     "text": "ACCx    ACCy    ACCz       ECG      RESP  LABEL\n0    0.9554 -0.2220 -0.5580  0.021423 -1.148987    0.0\n1    0.9258 -0.2216 -0.5538  0.020325 -1.124573    0.0\n2    0.9082 -0.2196 -0.5392  0.016525 -1.152039    0.0\n3    0.8974 -0.2102 -0.5122  0.016708 -1.158142    0.0\n4    0.8882 -0.2036 -0.4824  0.011673 -1.161194    0.0\n..      ...     ...     ...       ...       ...    ...\n695  0.9134 -0.1400  0.1074  0.003479  2.299500    7.0\n696  0.9092 -0.1394  0.0994  0.000778  2.305603    7.0\n697  0.9084 -0.1414  0.0934 -0.001694  2.297974    7.0\n698  0.9116 -0.1416  0.0958 -0.003799  2.354431    7.0\n699  0.9156 -0.1396  0.1022 -0.006546  2.355957    7.0\n\n[700 rows x 6 columns]\n"
    }
   ],
   "source": [
    "# Call your function here \n",
    "df=pickle_to_csv(\"Data\\Stress.pkl\")\n",
    "print(df)\n"
   ]
  },
  {
   "cell_type": "markdown",
   "metadata": {},
   "source": [
    "**Question 2**"
   ]
  },
  {
   "cell_type": "code",
   "execution_count": 191,
   "metadata": {},
   "outputs": [
    {
     "output_type": "execute_result",
     "data": {
      "text/plain": "'\\n    Find the number of occurrences of each unique value in `LABEL` (count of values).\\n    \\n    Add a column `BINARY` to the DataFrame which contains 1 if `LABEL` is 2,\\n    else 0.\\n    \\n    Find the mean, minimum, maximum and standard deviation of `RESP` for each value in `LABEL`.\\n'"
     },
     "metadata": {},
     "execution_count": 191
    }
   ],
   "source": [
    "\"\"\"\n",
    "    Find the number of occurrences of each unique value in `LABEL` (count of values).\n",
    "    \n",
    "    Add a column `BINARY` to the DataFrame which contains 1 if `LABEL` is 2,\n",
    "    else 0.\n",
    "    \n",
    "    Find the mean, minimum, maximum and standard deviation of `RESP` for each value in `LABEL`.\n",
    "\"\"\""
   ]
  },
  {
   "cell_type": "code",
   "execution_count": 4,
   "metadata": {},
   "outputs": [],
   "source": [
    "def count_unique(dataframe):\n",
    "    \"\"\"\n",
    "        Function 1: count_unique(dataframe)\n",
    "        Parameters: dataframe: Stress data DataFrame\n",
    "        Return: dict containing count of values in `LABEL`\n",
    "    \"\"\"\n",
    "    occur_dict=dict()\n",
    "    label=dataframe['LABEL']\n",
    "    for i in label:\n",
    "        if(i in occur_dict):\n",
    "            occur_dict[i]+=1\n",
    "        else:\n",
    "            occur_dict[i]=1\n",
    "    return(occur_dict)\n",
    "\n",
    "\n",
    "    "
   ]
  },
  {
   "cell_type": "code",
   "execution_count": 5,
   "metadata": {
    "tags": []
   },
   "outputs": [
    {
     "output_type": "stream",
     "name": "stdout",
     "text": "{0.0: 100, 1.0: 100, 2.0: 100, 6.0: 100, 4.0: 100, 3.0: 100, 7.0: 100}\n"
    }
   ],
   "source": [
    "# Call your function here\n",
    "value_occur=count_unique(df)\n",
    "print(value_occur)"
   ]
  },
  {
   "cell_type": "code",
   "execution_count": 6,
   "metadata": {},
   "outputs": [],
   "source": [
    "def add_binary(dataframe):\n",
    "    \"\"\"\n",
    "        Function 2: add_binary(dataframe)\n",
    "        Parameters: dataframe: Stress data DataFrame\n",
    "        Return: DataFrame (updated, containing `BINARY`)\n",
    "    \"\"\"\n",
    "    dataframe['BINARY']=0\n",
    "    for i in range(len(dataframe)):\n",
    "        if(dataframe['LABEL'][i]==2):\n",
    "            dataframe['BINARY'][i]=1\n",
    "    return(dataframe)\n",
    "    \n",
    "\n",
    "\n",
    "    "
   ]
  },
  {
   "cell_type": "code",
   "execution_count": 7,
   "metadata": {
    "tags": []
   },
   "outputs": [
    {
     "output_type": "stream",
     "name": "stdout",
     "text": "ACCx    ACCy    ACCz       ECG      RESP  LABEL  BINARY\n0    0.9554 -0.2220 -0.5580  0.021423 -1.148987    0.0       0\n1    0.9258 -0.2216 -0.5538  0.020325 -1.124573    0.0       0\n2    0.9082 -0.2196 -0.5392  0.016525 -1.152039    0.0       0\n3    0.8974 -0.2102 -0.5122  0.016708 -1.158142    0.0       0\n4    0.8882 -0.2036 -0.4824  0.011673 -1.161194    0.0       0\n..      ...     ...     ...       ...       ...    ...     ...\n695  0.9134 -0.1400  0.1074  0.003479  2.299500    7.0       0\n696  0.9092 -0.1394  0.0994  0.000778  2.305603    7.0       0\n697  0.9084 -0.1414  0.0934 -0.001694  2.297974    7.0       0\n698  0.9116 -0.1416  0.0958 -0.003799  2.354431    7.0       0\n699  0.9156 -0.1396  0.1022 -0.006546  2.355957    7.0       0\n\n[700 rows x 7 columns]\n"
    }
   ],
   "source": [
    "# Call your function here\n",
    "updated_frame=add_binary(df)\n",
    "print(updated_frame)"
   ]
  },
  {
   "cell_type": "code",
   "execution_count": 8,
   "metadata": {},
   "outputs": [],
   "source": [
    "def compute_resp(dataframe):\n",
    "    \"\"\"\n",
    "        Function 3: compute_resp(dataframe)\n",
    "        Parameters: dataframe: Stress data DataFrame\n",
    "        Return: dict containing mean, min, max and standard deviation of `RESP`\n",
    "                for each value in `LABEL`\n",
    "        Dictionary Format: {label_value: [mean, min, max, std_dev]}\n",
    "        Example: {1: [1, 0, 2, 1], 2: [0, -1, 1, 1], ... }\n",
    "    \"\"\"\n",
    "    resp_dict=dict()\n",
    "    for i in range(len(dataframe)):\n",
    "        t=dataframe['LABEL'][i]\n",
    "        if(t not in resp_dict):\n",
    "            resp_dict[t]=[]      \n",
    "        resp_dict[t].append(dataframe['RESP'][i])\n",
    "    calc_dict = dict()\n",
    "    for i in resp_dict:\n",
    "        temp=np.array(resp_dict[i])\n",
    "        calc_dict[i]=[temp.mean(),temp.min(),temp.max(),temp.std()]\n",
    "    return(calc_dict)\n",
    "    \n",
    "        \n",
    "       \n",
    "    \n",
    "        \n",
    "    "
   ]
  },
  {
   "cell_type": "code",
   "execution_count": 9,
   "metadata": {
    "scrolled": true,
    "tags": []
   },
   "outputs": [
    {
     "output_type": "stream",
     "name": "stdout",
     "text": "0.0  --  [-1.19342041015625, -1.39617919921875, -1.12457275390625, 0.04203528033932046]\n1.0  --  [0.7134246826171875, -0.23345947265625, 1.19171142578125, 0.2940525333840547]\n2.0  --  [-1.0665130615234375, -1.63116455078125, -0.86517333984375, 0.12759037281837993]\n6.0  --  [0.084747314453125, -0.4180908203125, 0.16632080078125, 0.0851857127833388]\n4.0  --  [-2.1305999755859375, -2.54364013671875, -2.00042724609375, 0.08763559613827641]\n3.0  --  [-0.5306396484375, -1.27105712890625, -0.09918212890625, 0.24275176012111174]\n7.0  --  [1.1905059814453125, -0.00457763671875, 2.35595703125, 0.6897215474335764]\n"
    }
   ],
   "source": [
    "# Call your function here\n",
    "calc_dict=compute_resp(df)\n",
    "for i in calc_dict:\n",
    "    print(i,\" -- \",calc_dict[i])"
   ]
  },
  {
   "cell_type": "markdown",
   "metadata": {},
   "source": [
    "**Question 3**"
   ]
  },
  {
   "cell_type": "code",
   "execution_count": 10,
   "metadata": {},
   "outputs": [
    {
     "output_type": "execute_result",
     "data": {
      "text/plain": "'\\n    Plot `RESP` using matplotlib (pyplot):\\n    - First, just plot the raw values.\\n    - Next, try using different colours for data points based on `BINARY`.\\n    - Experiment and come up with a useful plot.\\n'"
     },
     "metadata": {},
     "execution_count": 10
    }
   ],
   "source": [
    "\"\"\"\n",
    "    Plot `RESP` using matplotlib (pyplot):\n",
    "    - First, just plot the raw values.\n",
    "    - Next, try using different colours for data points based on `BINARY`.\n",
    "    - Experiment and come up with a useful plot.\n",
    "\"\"\""
   ]
  },
  {
   "cell_type": "code",
   "execution_count": 11,
   "metadata": {},
   "outputs": [],
   "source": [
    "def plot_raw(dataframe):\n",
    "    \"\"\"\n",
    "        Function 1: plot_raw(dataframe)\n",
    "        Parameters: dataframe: Stress data DataFrame\n",
    "        Output: Plot\n",
    "    \"\"\"\n",
    "    \n",
    "    plt.plot(df['RESP'])\n",
    "    "
   ]
  },
  {
   "cell_type": "code",
   "execution_count": 12,
   "metadata": {
    "tags": []
   },
   "outputs": [
    {
     "output_type": "display_data",
     "data": {
      "text/plain": "<Figure size 432x288 with 1 Axes>",
      "image/svg+xml": "<?xml version=\"1.0\" encoding=\"utf-8\" standalone=\"no\"?>\r\n<!DOCTYPE svg PUBLIC \"-//W3C//DTD SVG 1.1//EN\"\r\n  \"http://www.w3.org/Graphics/SVG/1.1/DTD/svg11.dtd\">\r\n<!-- Created with matplotlib (https://matplotlib.org/) -->\r\n<svg height=\"248.518125pt\" version=\"1.1\" viewBox=\"0 0 370.942187 248.518125\" width=\"370.942187pt\" xmlns=\"http://www.w3.org/2000/svg\" xmlns:xlink=\"http://www.w3.org/1999/xlink\">\r\n <defs>\r\n  <style type=\"text/css\">\r\n*{stroke-linecap:butt;stroke-linejoin:round;}\r\n  </style>\r\n </defs>\r\n <g id=\"figure_1\">\r\n  <g id=\"patch_1\">\r\n   <path d=\"M 0 248.518125 \r\nL 370.942187 248.518125 \r\nL 370.942187 0 \r\nL 0 0 \r\nz\r\n\" style=\"fill:none;\"/>\r\n  </g>\r\n  <g id=\"axes_1\">\r\n   <g id=\"patch_2\">\r\n    <path d=\"M 28.942188 224.64 \r\nL 363.742188 224.64 \r\nL 363.742188 7.2 \r\nL 28.942188 7.2 \r\nz\r\n\" style=\"fill:#ffffff;\"/>\r\n   </g>\r\n   <g id=\"matplotlib.axis_1\">\r\n    <g id=\"xtick_1\">\r\n     <g id=\"line2d_1\">\r\n      <defs>\r\n       <path d=\"M 0 0 \r\nL 0 3.5 \r\n\" id=\"mb73fb8dfe4\" style=\"stroke:#000000;stroke-width:0.8;\"/>\r\n      </defs>\r\n      <g>\r\n       <use style=\"stroke:#000000;stroke-width:0.8;\" x=\"44.160369\" xlink:href=\"#mb73fb8dfe4\" y=\"224.64\"/>\r\n      </g>\r\n     </g>\r\n     <g id=\"text_1\">\r\n      <!-- 0 -->\r\n      <defs>\r\n       <path d=\"M 31.78125 66.40625 \r\nQ 24.171875 66.40625 20.328125 58.90625 \r\nQ 16.5 51.421875 16.5 36.375 \r\nQ 16.5 21.390625 20.328125 13.890625 \r\nQ 24.171875 6.390625 31.78125 6.390625 \r\nQ 39.453125 6.390625 43.28125 13.890625 \r\nQ 47.125 21.390625 47.125 36.375 \r\nQ 47.125 51.421875 43.28125 58.90625 \r\nQ 39.453125 66.40625 31.78125 66.40625 \r\nz\r\nM 31.78125 74.21875 \r\nQ 44.046875 74.21875 50.515625 64.515625 \r\nQ 56.984375 54.828125 56.984375 36.375 \r\nQ 56.984375 17.96875 50.515625 8.265625 \r\nQ 44.046875 -1.421875 31.78125 -1.421875 \r\nQ 19.53125 -1.421875 13.0625 8.265625 \r\nQ 6.59375 17.96875 6.59375 36.375 \r\nQ 6.59375 54.828125 13.0625 64.515625 \r\nQ 19.53125 74.21875 31.78125 74.21875 \r\nz\r\n\" id=\"DejaVuSans-48\"/>\r\n      </defs>\r\n      <g transform=\"translate(40.979119 239.238437)scale(0.1 -0.1)\">\r\n       <use xlink:href=\"#DejaVuSans-48\"/>\r\n      </g>\r\n     </g>\r\n    </g>\r\n    <g id=\"xtick_2\">\r\n     <g id=\"line2d_2\">\r\n      <g>\r\n       <use style=\"stroke:#000000;stroke-width:0.8;\" x=\"87.703093\" xlink:href=\"#mb73fb8dfe4\" y=\"224.64\"/>\r\n      </g>\r\n     </g>\r\n     <g id=\"text_2\">\r\n      <!-- 100 -->\r\n      <defs>\r\n       <path d=\"M 12.40625 8.296875 \r\nL 28.515625 8.296875 \r\nL 28.515625 63.921875 \r\nL 10.984375 60.40625 \r\nL 10.984375 69.390625 \r\nL 28.421875 72.90625 \r\nL 38.28125 72.90625 \r\nL 38.28125 8.296875 \r\nL 54.390625 8.296875 \r\nL 54.390625 0 \r\nL 12.40625 0 \r\nz\r\n\" id=\"DejaVuSans-49\"/>\r\n      </defs>\r\n      <g transform=\"translate(78.159343 239.238437)scale(0.1 -0.1)\">\r\n       <use xlink:href=\"#DejaVuSans-49\"/>\r\n       <use x=\"63.623047\" xlink:href=\"#DejaVuSans-48\"/>\r\n       <use x=\"127.246094\" xlink:href=\"#DejaVuSans-48\"/>\r\n      </g>\r\n     </g>\r\n    </g>\r\n    <g id=\"xtick_3\">\r\n     <g id=\"line2d_3\">\r\n      <g>\r\n       <use style=\"stroke:#000000;stroke-width:0.8;\" x=\"131.245816\" xlink:href=\"#mb73fb8dfe4\" y=\"224.64\"/>\r\n      </g>\r\n     </g>\r\n     <g id=\"text_3\">\r\n      <!-- 200 -->\r\n      <defs>\r\n       <path d=\"M 19.1875 8.296875 \r\nL 53.609375 8.296875 \r\nL 53.609375 0 \r\nL 7.328125 0 \r\nL 7.328125 8.296875 \r\nQ 12.9375 14.109375 22.625 23.890625 \r\nQ 32.328125 33.6875 34.8125 36.53125 \r\nQ 39.546875 41.84375 41.421875 45.53125 \r\nQ 43.3125 49.21875 43.3125 52.78125 \r\nQ 43.3125 58.59375 39.234375 62.25 \r\nQ 35.15625 65.921875 28.609375 65.921875 \r\nQ 23.96875 65.921875 18.8125 64.3125 \r\nQ 13.671875 62.703125 7.8125 59.421875 \r\nL 7.8125 69.390625 \r\nQ 13.765625 71.78125 18.9375 73 \r\nQ 24.125 74.21875 28.421875 74.21875 \r\nQ 39.75 74.21875 46.484375 68.546875 \r\nQ 53.21875 62.890625 53.21875 53.421875 \r\nQ 53.21875 48.921875 51.53125 44.890625 \r\nQ 49.859375 40.875 45.40625 35.40625 \r\nQ 44.1875 33.984375 37.640625 27.21875 \r\nQ 31.109375 20.453125 19.1875 8.296875 \r\nz\r\n\" id=\"DejaVuSans-50\"/>\r\n      </defs>\r\n      <g transform=\"translate(121.702066 239.238437)scale(0.1 -0.1)\">\r\n       <use xlink:href=\"#DejaVuSans-50\"/>\r\n       <use x=\"63.623047\" xlink:href=\"#DejaVuSans-48\"/>\r\n       <use x=\"127.246094\" xlink:href=\"#DejaVuSans-48\"/>\r\n      </g>\r\n     </g>\r\n    </g>\r\n    <g id=\"xtick_4\">\r\n     <g id=\"line2d_4\">\r\n      <g>\r\n       <use style=\"stroke:#000000;stroke-width:0.8;\" x=\"174.788539\" xlink:href=\"#mb73fb8dfe4\" y=\"224.64\"/>\r\n      </g>\r\n     </g>\r\n     <g id=\"text_4\">\r\n      <!-- 300 -->\r\n      <defs>\r\n       <path d=\"M 40.578125 39.3125 \r\nQ 47.65625 37.796875 51.625 33 \r\nQ 55.609375 28.21875 55.609375 21.1875 \r\nQ 55.609375 10.40625 48.1875 4.484375 \r\nQ 40.765625 -1.421875 27.09375 -1.421875 \r\nQ 22.515625 -1.421875 17.65625 -0.515625 \r\nQ 12.796875 0.390625 7.625 2.203125 \r\nL 7.625 11.71875 \r\nQ 11.71875 9.328125 16.59375 8.109375 \r\nQ 21.484375 6.890625 26.8125 6.890625 \r\nQ 36.078125 6.890625 40.9375 10.546875 \r\nQ 45.796875 14.203125 45.796875 21.1875 \r\nQ 45.796875 27.640625 41.28125 31.265625 \r\nQ 36.765625 34.90625 28.71875 34.90625 \r\nL 20.21875 34.90625 \r\nL 20.21875 43.015625 \r\nL 29.109375 43.015625 \r\nQ 36.375 43.015625 40.234375 45.921875 \r\nQ 44.09375 48.828125 44.09375 54.296875 \r\nQ 44.09375 59.90625 40.109375 62.90625 \r\nQ 36.140625 65.921875 28.71875 65.921875 \r\nQ 24.65625 65.921875 20.015625 65.03125 \r\nQ 15.375 64.15625 9.8125 62.3125 \r\nL 9.8125 71.09375 \r\nQ 15.4375 72.65625 20.34375 73.4375 \r\nQ 25.25 74.21875 29.59375 74.21875 \r\nQ 40.828125 74.21875 47.359375 69.109375 \r\nQ 53.90625 64.015625 53.90625 55.328125 \r\nQ 53.90625 49.265625 50.4375 45.09375 \r\nQ 46.96875 40.921875 40.578125 39.3125 \r\nz\r\n\" id=\"DejaVuSans-51\"/>\r\n      </defs>\r\n      <g transform=\"translate(165.244789 239.238437)scale(0.1 -0.1)\">\r\n       <use xlink:href=\"#DejaVuSans-51\"/>\r\n       <use x=\"63.623047\" xlink:href=\"#DejaVuSans-48\"/>\r\n       <use x=\"127.246094\" xlink:href=\"#DejaVuSans-48\"/>\r\n      </g>\r\n     </g>\r\n    </g>\r\n    <g id=\"xtick_5\">\r\n     <g id=\"line2d_5\">\r\n      <g>\r\n       <use style=\"stroke:#000000;stroke-width:0.8;\" x=\"218.331263\" xlink:href=\"#mb73fb8dfe4\" y=\"224.64\"/>\r\n      </g>\r\n     </g>\r\n     <g id=\"text_5\">\r\n      <!-- 400 -->\r\n      <defs>\r\n       <path d=\"M 37.796875 64.3125 \r\nL 12.890625 25.390625 \r\nL 37.796875 25.390625 \r\nz\r\nM 35.203125 72.90625 \r\nL 47.609375 72.90625 \r\nL 47.609375 25.390625 \r\nL 58.015625 25.390625 \r\nL 58.015625 17.1875 \r\nL 47.609375 17.1875 \r\nL 47.609375 0 \r\nL 37.796875 0 \r\nL 37.796875 17.1875 \r\nL 4.890625 17.1875 \r\nL 4.890625 26.703125 \r\nz\r\n\" id=\"DejaVuSans-52\"/>\r\n      </defs>\r\n      <g transform=\"translate(208.787513 239.238437)scale(0.1 -0.1)\">\r\n       <use xlink:href=\"#DejaVuSans-52\"/>\r\n       <use x=\"63.623047\" xlink:href=\"#DejaVuSans-48\"/>\r\n       <use x=\"127.246094\" xlink:href=\"#DejaVuSans-48\"/>\r\n      </g>\r\n     </g>\r\n    </g>\r\n    <g id=\"xtick_6\">\r\n     <g id=\"line2d_6\">\r\n      <g>\r\n       <use style=\"stroke:#000000;stroke-width:0.8;\" x=\"261.873986\" xlink:href=\"#mb73fb8dfe4\" y=\"224.64\"/>\r\n      </g>\r\n     </g>\r\n     <g id=\"text_6\">\r\n      <!-- 500 -->\r\n      <defs>\r\n       <path d=\"M 10.796875 72.90625 \r\nL 49.515625 72.90625 \r\nL 49.515625 64.59375 \r\nL 19.828125 64.59375 \r\nL 19.828125 46.734375 \r\nQ 21.96875 47.46875 24.109375 47.828125 \r\nQ 26.265625 48.1875 28.421875 48.1875 \r\nQ 40.625 48.1875 47.75 41.5 \r\nQ 54.890625 34.8125 54.890625 23.390625 \r\nQ 54.890625 11.625 47.5625 5.09375 \r\nQ 40.234375 -1.421875 26.90625 -1.421875 \r\nQ 22.3125 -1.421875 17.546875 -0.640625 \r\nQ 12.796875 0.140625 7.71875 1.703125 \r\nL 7.71875 11.625 \r\nQ 12.109375 9.234375 16.796875 8.0625 \r\nQ 21.484375 6.890625 26.703125 6.890625 \r\nQ 35.15625 6.890625 40.078125 11.328125 \r\nQ 45.015625 15.765625 45.015625 23.390625 \r\nQ 45.015625 31 40.078125 35.4375 \r\nQ 35.15625 39.890625 26.703125 39.890625 \r\nQ 22.75 39.890625 18.8125 39.015625 \r\nQ 14.890625 38.140625 10.796875 36.28125 \r\nz\r\n\" id=\"DejaVuSans-53\"/>\r\n      </defs>\r\n      <g transform=\"translate(252.330236 239.238437)scale(0.1 -0.1)\">\r\n       <use xlink:href=\"#DejaVuSans-53\"/>\r\n       <use x=\"63.623047\" xlink:href=\"#DejaVuSans-48\"/>\r\n       <use x=\"127.246094\" xlink:href=\"#DejaVuSans-48\"/>\r\n      </g>\r\n     </g>\r\n    </g>\r\n    <g id=\"xtick_7\">\r\n     <g id=\"line2d_7\">\r\n      <g>\r\n       <use style=\"stroke:#000000;stroke-width:0.8;\" x=\"305.41671\" xlink:href=\"#mb73fb8dfe4\" y=\"224.64\"/>\r\n      </g>\r\n     </g>\r\n     <g id=\"text_7\">\r\n      <!-- 600 -->\r\n      <defs>\r\n       <path d=\"M 33.015625 40.375 \r\nQ 26.375 40.375 22.484375 35.828125 \r\nQ 18.609375 31.296875 18.609375 23.390625 \r\nQ 18.609375 15.53125 22.484375 10.953125 \r\nQ 26.375 6.390625 33.015625 6.390625 \r\nQ 39.65625 6.390625 43.53125 10.953125 \r\nQ 47.40625 15.53125 47.40625 23.390625 \r\nQ 47.40625 31.296875 43.53125 35.828125 \r\nQ 39.65625 40.375 33.015625 40.375 \r\nz\r\nM 52.59375 71.296875 \r\nL 52.59375 62.3125 \r\nQ 48.875 64.0625 45.09375 64.984375 \r\nQ 41.3125 65.921875 37.59375 65.921875 \r\nQ 27.828125 65.921875 22.671875 59.328125 \r\nQ 17.53125 52.734375 16.796875 39.40625 \r\nQ 19.671875 43.65625 24.015625 45.921875 \r\nQ 28.375 48.1875 33.59375 48.1875 \r\nQ 44.578125 48.1875 50.953125 41.515625 \r\nQ 57.328125 34.859375 57.328125 23.390625 \r\nQ 57.328125 12.15625 50.6875 5.359375 \r\nQ 44.046875 -1.421875 33.015625 -1.421875 \r\nQ 20.359375 -1.421875 13.671875 8.265625 \r\nQ 6.984375 17.96875 6.984375 36.375 \r\nQ 6.984375 53.65625 15.1875 63.9375 \r\nQ 23.390625 74.21875 37.203125 74.21875 \r\nQ 40.921875 74.21875 44.703125 73.484375 \r\nQ 48.484375 72.75 52.59375 71.296875 \r\nz\r\n\" id=\"DejaVuSans-54\"/>\r\n      </defs>\r\n      <g transform=\"translate(295.87296 239.238437)scale(0.1 -0.1)\">\r\n       <use xlink:href=\"#DejaVuSans-54\"/>\r\n       <use x=\"63.623047\" xlink:href=\"#DejaVuSans-48\"/>\r\n       <use x=\"127.246094\" xlink:href=\"#DejaVuSans-48\"/>\r\n      </g>\r\n     </g>\r\n    </g>\r\n    <g id=\"xtick_8\">\r\n     <g id=\"line2d_8\">\r\n      <g>\r\n       <use style=\"stroke:#000000;stroke-width:0.8;\" x=\"348.959433\" xlink:href=\"#mb73fb8dfe4\" y=\"224.64\"/>\r\n      </g>\r\n     </g>\r\n     <g id=\"text_8\">\r\n      <!-- 700 -->\r\n      <defs>\r\n       <path d=\"M 8.203125 72.90625 \r\nL 55.078125 72.90625 \r\nL 55.078125 68.703125 \r\nL 28.609375 0 \r\nL 18.3125 0 \r\nL 43.21875 64.59375 \r\nL 8.203125 64.59375 \r\nz\r\n\" id=\"DejaVuSans-55\"/>\r\n      </defs>\r\n      <g transform=\"translate(339.415683 239.238437)scale(0.1 -0.1)\">\r\n       <use xlink:href=\"#DejaVuSans-55\"/>\r\n       <use x=\"63.623047\" xlink:href=\"#DejaVuSans-48\"/>\r\n       <use x=\"127.246094\" xlink:href=\"#DejaVuSans-48\"/>\r\n      </g>\r\n     </g>\r\n    </g>\r\n   </g>\r\n   <g id=\"matplotlib.axis_2\">\r\n    <g id=\"ytick_1\">\r\n     <g id=\"line2d_9\">\r\n      <defs>\r\n       <path d=\"M 0 0 \r\nL -3.5 0 \r\n\" id=\"m1579f728cf\" style=\"stroke:#000000;stroke-width:0.8;\"/>\r\n      </defs>\r\n      <g>\r\n       <use style=\"stroke:#000000;stroke-width:0.8;\" x=\"28.942188\" xlink:href=\"#m1579f728cf\" y=\"192.823371\"/>\r\n      </g>\r\n     </g>\r\n     <g id=\"text_9\">\r\n      <!-- −2 -->\r\n      <defs>\r\n       <path d=\"M 10.59375 35.5 \r\nL 73.1875 35.5 \r\nL 73.1875 27.203125 \r\nL 10.59375 27.203125 \r\nz\r\n\" id=\"DejaVuSans-8722\"/>\r\n      </defs>\r\n      <g transform=\"translate(7.2 196.62259)scale(0.1 -0.1)\">\r\n       <use xlink:href=\"#DejaVuSans-8722\"/>\r\n       <use x=\"83.789062\" xlink:href=\"#DejaVuSans-50\"/>\r\n      </g>\r\n     </g>\r\n    </g>\r\n    <g id=\"ytick_2\">\r\n     <g id=\"line2d_10\">\r\n      <g>\r\n       <use style=\"stroke:#000000;stroke-width:0.8;\" x=\"28.942188\" xlink:href=\"#m1579f728cf\" y=\"152.478681\"/>\r\n      </g>\r\n     </g>\r\n     <g id=\"text_10\">\r\n      <!-- −1 -->\r\n      <g transform=\"translate(7.2 156.2779)scale(0.1 -0.1)\">\r\n       <use xlink:href=\"#DejaVuSans-8722\"/>\r\n       <use x=\"83.789062\" xlink:href=\"#DejaVuSans-49\"/>\r\n      </g>\r\n     </g>\r\n    </g>\r\n    <g id=\"ytick_3\">\r\n     <g id=\"line2d_11\">\r\n      <g>\r\n       <use style=\"stroke:#000000;stroke-width:0.8;\" x=\"28.942188\" xlink:href=\"#m1579f728cf\" y=\"112.133992\"/>\r\n      </g>\r\n     </g>\r\n     <g id=\"text_11\">\r\n      <!-- 0 -->\r\n      <g transform=\"translate(15.579688 115.93321)scale(0.1 -0.1)\">\r\n       <use xlink:href=\"#DejaVuSans-48\"/>\r\n      </g>\r\n     </g>\r\n    </g>\r\n    <g id=\"ytick_4\">\r\n     <g id=\"line2d_12\">\r\n      <g>\r\n       <use style=\"stroke:#000000;stroke-width:0.8;\" x=\"28.942188\" xlink:href=\"#m1579f728cf\" y=\"71.789302\"/>\r\n      </g>\r\n     </g>\r\n     <g id=\"text_12\">\r\n      <!-- 1 -->\r\n      <g transform=\"translate(15.579688 75.588521)scale(0.1 -0.1)\">\r\n       <use xlink:href=\"#DejaVuSans-49\"/>\r\n      </g>\r\n     </g>\r\n    </g>\r\n    <g id=\"ytick_5\">\r\n     <g id=\"line2d_13\">\r\n      <g>\r\n       <use style=\"stroke:#000000;stroke-width:0.8;\" x=\"28.942188\" xlink:href=\"#m1579f728cf\" y=\"31.444612\"/>\r\n      </g>\r\n     </g>\r\n     <g id=\"text_13\">\r\n      <!-- 2 -->\r\n      <g transform=\"translate(15.579688 35.243831)scale(0.1 -0.1)\">\r\n       <use xlink:href=\"#DejaVuSans-50\"/>\r\n      </g>\r\n     </g>\r\n    </g>\r\n   </g>\r\n   <g id=\"line2d_14\">\r\n    <path clip-path=\"url(#ped28c38453)\" d=\"M 44.160369 158.489508 \r\nL 44.595797 157.50453 \r\nL 45.031224 158.61263 \r\nL 45.902078 158.981997 \r\nL 46.337505 159.16668 \r\nL 46.772933 157.689214 \r\nL 47.20836 158.674192 \r\nL 47.643787 158.61263 \r\nL 48.079214 161.321319 \r\nL 48.514642 158.489508 \r\nL 49.385496 159.536047 \r\nL 49.820923 159.536047 \r\nL 50.256351 159.843853 \r\nL 50.691778 158.981997 \r\nL 51.127205 158.61263 \r\nL 51.562632 159.351364 \r\nL 51.99806 159.105119 \r\nL 52.433487 159.597608 \r\nL 52.868914 163.291275 \r\nL 53.304341 159.412925 \r\nL 53.739768 159.659169 \r\nL 54.175196 158.489508 \r\nL 54.610623 159.843853 \r\nL 55.04605 159.597608 \r\nL 55.481477 158.981997 \r\nL 55.916905 159.843853 \r\nL 56.352332 159.597608 \r\nL 56.787759 159.966975 \r\nL 57.223186 159.043558 \r\nL 57.658614 166.123086 \r\nL 58.094041 159.966975 \r\nL 58.529468 158.981997 \r\nL 58.964895 160.27478 \r\nL 59.400322 160.090097 \r\nL 60.271177 160.705708 \r\nL 60.706604 160.213219 \r\nL 61.142031 159.536047 \r\nL 61.577459 168.462408 \r\nL 62.012886 158.858875 \r\nL 62.448313 160.336342 \r\nL 62.88374 160.82883 \r\nL 63.754595 160.459464 \r\nL 64.190022 159.659169 \r\nL 64.625449 167.231186 \r\nL 65.060877 160.644147 \r\nL 65.496304 160.459464 \r\nL 65.931731 160.582586 \r\nL 66.367158 160.151658 \r\nL 66.802585 166.861819 \r\nL 67.238013 160.705708 \r\nL 67.67344 159.351364 \r\nL 68.108867 160.767269 \r\nL 68.544294 160.151658 \r\nL 68.979722 160.459464 \r\nL 69.415149 159.843853 \r\nL 69.850576 159.843853 \r\nL 70.286003 160.582586 \r\nL 70.721431 160.028536 \r\nL 71.156858 160.951953 \r\nL 71.592285 159.966975 \r\nL 72.027712 160.951953 \r\nL 72.46314 159.72073 \r\nL 72.898567 160.951953 \r\nL 73.333994 161.075075 \r\nL 73.769421 160.090097 \r\nL 74.204848 163.229714 \r\nL 74.640276 160.705708 \r\nL 75.075703 160.090097 \r\nL 75.946557 161.075075 \r\nL 76.381985 161.075075 \r\nL 76.817412 159.843853 \r\nL 77.252839 160.336342 \r\nL 77.688266 159.597608 \r\nL 78.123694 160.336342 \r\nL 78.559121 159.72073 \r\nL 78.994548 160.951953 \r\nL 79.429975 160.459464 \r\nL 79.865402 160.459464 \r\nL 80.30083 160.951953 \r\nL 80.736257 160.151658 \r\nL 81.171684 162.552542 \r\nL 81.607111 159.351364 \r\nL 82.042539 160.767269 \r\nL 82.477966 159.72073 \r\nL 82.913393 160.459464 \r\nL 83.784248 160.644147 \r\nL 84.219675 160.459464 \r\nL 84.655102 159.474486 \r\nL 85.090529 160.27478 \r\nL 85.525957 159.474486 \r\nL 85.961384 160.705708 \r\nL 86.832238 159.16668 \r\nL 87.267665 160.336342 \r\nL 87.703093 64.054764 \r\nL 88.13852 66.147842 \r\nL 88.573947 66.086281 \r\nL 89.009374 65.532231 \r\nL 89.444802 66.394086 \r\nL 89.880229 66.270964 \r\nL 90.315656 67.13282 \r\nL 90.751083 66.270964 \r\nL 91.621938 68.487164 \r\nL 92.057365 67.748431 \r\nL 92.492792 68.487164 \r\nL 92.928219 69.533703 \r\nL 93.363647 69.472142 \r\nL 93.799074 68.487164 \r\nL 94.234501 69.34902 \r\nL 94.669928 83.138708 \r\nL 95.105356 70.703364 \r\nL 95.540783 70.949608 \r\nL 95.97621 70.703364 \r\nL 96.411637 70.026192 \r\nL 96.847065 71.996147 \r\nL 97.282492 72.611758 \r\nL 97.717919 71.626781 \r\nL 98.153346 73.165808 \r\nL 98.588774 72.488636 \r\nL 99.459628 73.78142 \r\nL 99.895055 73.473614 \r\nL 100.330482 75.135764 \r\nL 100.76591 75.320447 \r\nL 101.201337 74.397031 \r\nL 102.072191 75.382008 \r\nL 102.507619 76.613231 \r\nL 102.943046 76.120742 \r\nL 103.8139 77.906014 \r\nL 104.249328 76.859475 \r\nL 105.120182 79.32192 \r\nL 105.555609 79.691286 \r\nL 105.991037 78.460064 \r\nL 106.426464 79.691286 \r\nL 106.861891 80.491581 \r\nL 107.297318 80.43002 \r\nL 107.732745 80.98407 \r\nL 108.168173 84.431492 \r\nL 108.6036 81.107192 \r\nL 109.039027 82.523097 \r\nL 109.474454 82.399975 \r\nL 109.909882 81.661242 \r\nL 110.345309 83.138708 \r\nL 110.780736 83.815881 \r\nL 111.216163 84.000564 \r\nL 111.651591 85.170225 \r\nL 112.087018 85.108664 \r\nL 112.522445 85.231786 \r\nL 112.957872 84.739297 \r\nL 113.393299 90.833847 \r\nL 113.828727 86.463008 \r\nL 114.264154 87.386425 \r\nL 114.699581 87.694231 \r\nL 115.135008 86.955497 \r\nL 115.570436 87.324864 \r\nL 116.005863 89.171697 \r\nL 116.44129 88.309842 \r\nL 117.312145 90.218236 \r\nL 117.747572 90.033553 \r\nL 118.182999 90.587603 \r\nL 119.053854 92.126631 \r\nL 119.489281 91.634142 \r\nL 119.924708 92.865364 \r\nL 120.360135 92.865364 \r\nL 120.795562 92.61912 \r\nL 121.23099 94.096586 \r\nL 121.666417 93.17317 \r\nL 122.101844 94.835319 \r\nL 122.537271 95.081564 \r\nL 122.972699 95.881858 \r\nL 123.408126 96.066542 \r\nL 123.843553 96.559031 \r\nL 124.27898 97.297764 \r\nL 124.714408 96.312786 \r\nL 125.149835 97.974936 \r\nL 125.585262 97.544008 \r\nL 126.020689 121.552842 \r\nL 126.456116 99.390842 \r\nL 126.891544 100.498942 \r\nL 127.326971 100.498942 \r\nL 127.762398 99.760208 \r\nL 128.197825 101.483919 \r\nL 128.633253 100.868308 \r\nL 129.06868 102.037969 \r\nL 129.504107 101.853286 \r\nL 129.939534 103.084508 \r\nL 130.374962 102.961386 \r\nL 130.810389 103.515436 \r\nL 131.245816 161.444442 \r\nL 131.681243 160.644147 \r\nL 132.116671 161.444442 \r\nL 132.552098 161.690686 \r\nL 132.987525 160.951953 \r\nL 133.422952 161.259758 \r\nL 133.858379 160.151658 \r\nL 134.293807 177.942819 \r\nL 134.729234 159.659169 \r\nL 135.164661 160.82883 \r\nL 135.600088 159.474486 \r\nL 136.035516 160.459464 \r\nL 136.470943 160.582586 \r\nL 136.90637 159.905414 \r\nL 137.341797 160.705708 \r\nL 137.777225 160.028536 \r\nL 138.212652 158.61263 \r\nL 138.648079 159.474486 \r\nL 139.083506 159.597608 \r\nL 139.518934 159.289803 \r\nL 139.954361 159.16668 \r\nL 140.389788 157.627653 \r\nL 140.825215 158.981997 \r\nL 141.260642 158.366386 \r\nL 141.69607 157.381408 \r\nL 142.131497 157.997019 \r\nL 142.566924 157.012042 \r\nL 143.002351 157.873897 \r\nL 143.437779 157.381408 \r\nL 143.873206 158.243264 \r\nL 144.308633 157.627653 \r\nL 144.74406 162.737225 \r\nL 145.179488 157.012042 \r\nL 145.614915 157.196725 \r\nL 146.050342 156.95048 \r\nL 146.485769 164.70718 \r\nL 146.921196 157.012042 \r\nL 147.356624 155.657697 \r\nL 147.792051 167.600553 \r\nL 148.227478 156.027064 \r\nL 148.662905 155.226769 \r\nL 149.098333 156.273308 \r\nL 149.53376 155.657697 \r\nL 149.969187 156.273308 \r\nL 150.404614 155.165208 \r\nL 150.840042 155.780819 \r\nL 151.275469 154.241792 \r\nL 151.710896 155.226769 \r\nL 152.146323 154.980525 \r\nL 152.581751 154.426475 \r\nL 153.017178 155.042086 \r\nL 153.452605 154.364914 \r\nL 153.888032 154.241792 \r\nL 154.323459 153.256814 \r\nL 154.758887 154.118669 \r\nL 155.629741 154.364914 \r\nL 156.065168 154.118669 \r\nL 156.500596 152.949008 \r\nL 156.936023 153.441497 \r\nL 157.37145 153.256814 \r\nL 157.806877 151.96403 \r\nL 158.242305 153.07213 \r\nL 158.677732 151.594664 \r\nL 159.113159 153.195253 \r\nL 159.548586 151.225297 \r\nL 159.984013 152.702764 \r\nL 160.419441 153.010569 \r\nL 160.854868 152.271836 \r\nL 161.290295 151.225297 \r\nL 161.725722 155.780819 \r\nL 162.16115 151.348419 \r\nL 162.596577 151.96403 \r\nL 163.032004 151.594664 \r\nL 163.467431 151.471542 \r\nL 163.902859 150.240319 \r\nL 164.338286 150.486564 \r\nL 164.773713 151.163736 \r\nL 165.20914 151.286858 \r\nL 165.644568 149.624708 \r\nL 166.079995 150.240319 \r\nL 166.515422 149.994075 \r\nL 166.950849 150.30188 \r\nL 167.386276 149.686269 \r\nL 167.821704 164.768742 \r\nL 168.257131 149.255342 \r\nL 168.692558 149.624708 \r\nL 169.127985 149.255342 \r\nL 169.563413 147.900997 \r\nL 169.99884 147.53163 \r\nL 170.434267 147.777875 \r\nL 170.869694 148.270364 \r\nL 171.305122 148.393486 \r\nL 171.740549 147.654753 \r\nL 172.175976 148.516608 \r\nL 172.611403 147.777875 \r\nL 173.04683 147.654753 \r\nL 173.482258 147.962558 \r\nL 173.917685 148.024119 \r\nL 174.353112 147.039142 \r\nL 174.788539 109.548425 \r\nL 175.223967 109.425303 \r\nL 175.659394 108.748131 \r\nL 176.094821 109.240619 \r\nL 176.530248 108.132519 \r\nL 176.965676 109.548425 \r\nL 177.401103 108.932814 \r\nL 177.83653 109.055936 \r\nL 178.271957 108.994375 \r\nL 178.707385 109.794669 \r\nL 179.578239 108.748131 \r\nL 180.013666 108.932814 \r\nL 180.449093 109.363742 \r\nL 180.884521 108.871253 \r\nL 182.190802 108.994375 \r\nL 182.62623 108.255642 \r\nL 183.061657 108.378764 \r\nL 183.497084 108.255642 \r\nL 183.932511 108.009397 \r\nL 184.367939 107.947836 \r\nL 184.803366 108.871253 \r\nL 185.238793 109.117497 \r\nL 185.67422 108.871253 \r\nL 186.109648 108.932814 \r\nL 186.545075 108.871253 \r\nL 186.980502 109.425303 \r\nL 187.415929 107.947836 \r\nL 187.851356 107.947836 \r\nL 188.286784 108.994375 \r\nL 188.722211 108.625008 \r\nL 189.157638 129.001736 \r\nL 189.593065 107.824714 \r\nL 190.028493 107.578469 \r\nL 190.46392 108.748131 \r\nL 190.899347 108.378764 \r\nL 191.334774 108.440325 \r\nL 191.770202 107.270664 \r\nL 192.205629 107.578469 \r\nL 192.641056 108.748131 \r\nL 193.076483 108.748131 \r\nL 193.51191 107.393786 \r\nL 193.947338 108.625008 \r\nL 194.382765 108.748131 \r\nL 194.818192 107.763153 \r\nL 195.253619 107.147542 \r\nL 196.124474 108.440325 \r\nL 196.995328 108.378764 \r\nL 197.430756 108.255642 \r\nL 197.866183 108.378764 \r\nL 198.30161 108.132519 \r\nL 198.737037 117.243564 \r\nL 199.172465 107.393786 \r\nL 199.607892 107.578469 \r\nL 200.043319 108.440325 \r\nL 200.478746 108.932814 \r\nL 200.914173 107.640031 \r\nL 201.349601 108.132519 \r\nL 201.785028 107.763153 \r\nL 202.220455 106.593492 \r\nL 202.655882 108.009397 \r\nL 203.09131 108.009397 \r\nL 203.526737 106.901297 \r\nL 203.962164 106.655053 \r\nL 204.397591 106.778175 \r\nL 204.833019 108.132519 \r\nL 205.268446 107.640031 \r\nL 205.703873 107.516908 \r\nL 206.1393 108.009397 \r\nL 206.574727 107.516908 \r\nL 207.010155 106.285686 \r\nL 207.445582 107.516908 \r\nL 207.881009 107.332225 \r\nL 208.316436 106.778175 \r\nL 208.751864 126.600853 \r\nL 209.187291 108.132519 \r\nL 209.622718 106.901297 \r\nL 210.058145 107.270664 \r\nL 210.493573 106.039442 \r\nL 210.929 108.748131 \r\nL 211.364427 107.332225 \r\nL 211.799854 107.947836 \r\nL 212.235282 107.147542 \r\nL 212.670709 105.977881 \r\nL 213.106136 106.408808 \r\nL 213.541563 123.522797 \r\nL 213.97699 107.455347 \r\nL 214.412418 107.886275 \r\nL 214.847845 113.980825 \r\nL 215.283272 106.470369 \r\nL 215.718699 106.593492 \r\nL 216.589554 107.147542 \r\nL 217.460408 105.423831 \r\nL 217.895836 106.962858 \r\nL 218.331263 202.197897 \r\nL 219.202117 200.843553 \r\nL 219.637545 201.520725 \r\nL 220.072972 200.16638 \r\nL 220.508399 200.597308 \r\nL 221.379253 202.136336 \r\nL 221.814681 201.582286 \r\nL 222.250108 201.82853 \r\nL 222.685535 201.459164 \r\nL 223.120962 199.981697 \r\nL 223.55639 214.756364 \r\nL 223.991817 201.212919 \r\nL 224.427244 200.535747 \r\nL 224.862671 199.489208 \r\nL 225.298099 200.966675 \r\nL 225.733526 203.429119 \r\nL 226.168953 200.043258 \r\nL 226.60438 200.966675 \r\nL 227.475235 200.227941 \r\nL 227.910662 200.043258 \r\nL 228.346089 199.05828 \r\nL 228.781516 200.351064 \r\nL 229.216944 201.212919 \r\nL 230.087798 198.873597 \r\nL 230.523225 200.351064 \r\nL 231.39408 198.565791 \r\nL 232.264934 199.489208 \r\nL 232.700362 200.597308 \r\nL 233.135789 198.812036 \r\nL 233.571216 207.122786 \r\nL 234.006643 198.996719 \r\nL 234.44207 199.61233 \r\nL 234.877498 198.50423 \r\nL 235.312925 198.381108 \r\nL 235.748352 198.750475 \r\nL 236.183779 198.873597 \r\nL 236.619207 198.812036 \r\nL 237.054634 197.273008 \r\nL 237.490061 198.627353 \r\nL 237.925488 199.181403 \r\nL 238.360916 198.565791 \r\nL 238.796343 197.149886 \r\nL 239.23177 198.381108 \r\nL 239.667197 196.595836 \r\nL 240.102624 197.703936 \r\nL 240.538052 197.519253 \r\nL 240.973479 196.903641 \r\nL 241.408906 197.703936 \r\nL 241.844333 196.534275 \r\nL 242.279761 198.50423 \r\nL 242.715188 197.273008 \r\nL 243.150615 197.026764 \r\nL 243.586042 195.549297 \r\nL 244.02147 197.519253 \r\nL 244.456897 195.857103 \r\nL 244.892324 196.903641 \r\nL 245.327751 197.519253 \r\nL 245.763179 196.595836 \r\nL 246.198606 196.903641 \r\nL 246.634033 195.303053 \r\nL 247.06946 196.472714 \r\nL 247.504887 196.595836 \r\nL 247.940315 195.795541 \r\nL 248.375742 196.472714 \r\nL 248.811169 194.810564 \r\nL 249.246596 196.103347 \r\nL 249.682024 195.610858 \r\nL 250.117451 195.426175 \r\nL 250.552878 195.672419 \r\nL 250.988305 195.426175 \r\nL 251.423733 195.918664 \r\nL 251.85916 194.933686 \r\nL 252.294587 195.056808 \r\nL 252.730014 195.487736 \r\nL 253.165441 212.35548 \r\nL 253.600869 194.933686 \r\nL 254.036296 193.948708 \r\nL 254.471723 195.056808 \r\nL 254.90715 195.241491 \r\nL 255.342578 194.194953 \r\nL 255.778005 194.995247 \r\nL 256.213432 193.456219 \r\nL 256.648859 194.194953 \r\nL 257.084287 194.07183 \r\nL 257.519714 194.256514 \r\nL 257.955141 193.702464 \r\nL 258.390568 194.256514 \r\nL 258.825996 194.318075 \r\nL 259.261423 193.640903 \r\nL 259.69685 193.209975 \r\nL 260.132277 194.318075 \r\nL 260.567704 193.948708 \r\nL 261.003132 192.840608 \r\nL 261.438559 192.840608 \r\nL 261.873986 148.516608 \r\nL 262.309413 153.318375 \r\nL 262.744841 147.408508 \r\nL 263.180268 146.916019 \r\nL 263.615695 147.039142 \r\nL 264.051122 145.86948 \r\nL 264.48655 145.684797 \r\nL 264.921977 146.300408 \r\nL 265.357404 146.300408 \r\nL 265.792831 149.563147 \r\nL 266.228259 145.561675 \r\nL 266.663686 144.268892 \r\nL 267.099113 144.699819 \r\nL 267.53454 163.414397 \r\nL 267.969967 143.591719 \r\nL 268.405395 143.09923 \r\nL 268.840822 143.591719 \r\nL 269.276249 143.714842 \r\nL 269.711676 143.407036 \r\nL 270.147104 149.255342 \r\nL 270.582531 142.114253 \r\nL 271.017958 142.237375 \r\nL 271.453385 141.868008 \r\nL 271.888813 141.99113 \r\nL 272.32424 140.32898 \r\nL 272.759667 141.129275 \r\nL 273.195094 146.361969 \r\nL 273.630521 140.144297 \r\nL 274.065949 139.282442 \r\nL 274.501376 139.959614 \r\nL 274.936803 139.282442 \r\nL 275.37223 139.77493 \r\nL 275.807658 138.051219 \r\nL 276.243085 138.420586 \r\nL 276.678512 138.482147 \r\nL 277.113939 138.297464 \r\nL 277.549367 138.297464 \r\nL 277.984794 136.573753 \r\nL 278.420221 137.127803 \r\nL 278.855648 136.943119 \r\nL 279.291076 136.327508 \r\nL 279.726503 136.142825 \r\nL 280.16193 135.588775 \r\nL 280.597357 134.850042 \r\nL 281.032784 135.465653 \r\nL 281.468212 135.219408 \r\nL 281.903639 134.542236 \r\nL 282.774493 134.111308 \r\nL 283.209921 133.003208 \r\nL 283.645348 133.495697 \r\nL 284.080775 133.249453 \r\nL 284.516202 132.141353 \r\nL 284.95163 132.572281 \r\nL 285.387057 136.081264 \r\nL 285.822484 133.003208 \r\nL 286.257911 133.249453 \r\nL 286.693338 130.910131 \r\nL 287.564193 129.432664 \r\nL 287.99962 130.109836 \r\nL 288.435047 129.925153 \r\nL 288.870475 128.324564 \r\nL 289.305902 128.201442 \r\nL 289.741329 128.324564 \r\nL 290.176756 128.570808 \r\nL 290.612184 127.216464 \r\nL 291.047611 126.970219 \r\nL 291.483038 126.970219 \r\nL 291.918465 127.216464 \r\nL 292.78932 126.785536 \r\nL 293.224747 125.492753 \r\nL 293.660174 125.985242 \r\nL 294.095601 125.369631 \r\nL 294.531029 125.492753 \r\nL 295.401883 124.877142 \r\nL 295.83731 123.892164 \r\nL 296.272738 123.214992 \r\nL 296.708165 123.645919 \r\nL 297.143592 122.045331 \r\nL 297.579019 123.214992 \r\nL 298.014447 122.537819 \r\nL 298.449874 122.168453 \r\nL 298.885301 121.245036 \r\nL 299.320728 121.675964 \r\nL 299.756156 120.567864 \r\nL 300.191583 121.060353 \r\nL 300.62701 120.814108 \r\nL 301.062437 123.707481 \r\nL 301.497864 118.782592 \r\nL 301.933292 119.582886 \r\nL 302.368719 119.767569 \r\nL 302.804146 118.105419 \r\nL 303.239573 118.290103 \r\nL 303.675001 118.597908 \r\nL 304.110428 117.797614 \r\nL 304.545855 117.489808 \r\nL 304.981282 116.135464 \r\nL 305.41671 112.318675 \r\nL 305.852137 111.703064 \r\nL 306.287564 109.856231 \r\nL 306.722991 109.240619 \r\nL 307.593846 106.655053 \r\nL 308.4647 105.177586 \r\nL 308.900127 104.931342 \r\nL 309.335555 103.207631 \r\nL 309.770982 102.592019 \r\nL 310.641836 100.806747 \r\nL 311.077264 99.206158 \r\nL 311.512691 98.098058 \r\nL 311.948118 97.544008 \r\nL 312.383545 96.435908 \r\nL 312.818973 93.973464 \r\nL 313.2544 94.158147 \r\nL 313.689827 93.357853 \r\nL 315.866963 88.125158 \r\nL 316.30239 88.063597 \r\nL 316.737818 86.401447 \r\nL 317.173245 83.815881 \r\nL 317.608672 84.123686 \r\nL 318.044099 83.446514 \r\nL 318.914954 81.784364 \r\nL 319.350381 79.814408 \r\nL 319.785808 78.829431 \r\nL 320.656663 76.182303 \r\nL 321.09209 76.243864 \r\nL 321.962944 73.966103 \r\nL 322.398372 71.811464 \r\nL 322.833799 71.318975 \r\nL 323.269226 71.503658 \r\nL 323.704653 70.333997 \r\nL 324.140081 71.318975 \r\nL 324.575508 69.225897 \r\nL 325.010935 69.533703 \r\nL 325.446362 65.039742 \r\nL 325.88179 64.424131 \r\nL 326.317217 64.301008 \r\nL 326.752644 63.316031 \r\nL 327.188071 68.364042 \r\nL 327.623498 60.48422 \r\nL 328.058926 68.856531 \r\nL 328.494353 59.37612 \r\nL 329.365207 56.05182 \r\nL 329.800635 56.236503 \r\nL 330.236062 75.44357 \r\nL 330.671489 54.820597 \r\nL 331.106916 67.994675 \r\nL 331.542344 52.973764 \r\nL 332.413198 50.696003 \r\nL 332.848625 50.265075 \r\nL 333.284053 47.371703 \r\nL 333.71948 47.18702 \r\nL 334.154907 46.386725 \r\nL 334.590334 46.509847 \r\nL 335.025761 43.678036 \r\nL 335.461189 43.985842 \r\nL 335.896616 43.000864 \r\nL 336.332043 57.036797 \r\nL 336.76747 41.400275 \r\nL 337.202898 38.999392 \r\nL 337.638325 39.184075 \r\nL 338.073752 38.630025 \r\nL 338.509179 44.108964 \r\nL 338.944607 35.736653 \r\nL 339.380034 35.490409 \r\nL 339.815461 33.766697 \r\nL 340.250888 32.78172 \r\nL 340.686315 32.904842 \r\nL 341.121743 30.750203 \r\nL 341.55717 30.319275 \r\nL 341.992597 30.319275 \r\nL 342.428024 29.334297 \r\nL 342.863452 27.610586 \r\nL 343.298879 27.672147 \r\nL 343.734306 26.625609 \r\nL 344.605161 25.394386 \r\nL 345.040588 23.609114 \r\nL 345.476015 23.239747 \r\nL 345.911442 21.70072 \r\nL 346.34687 31.304253 \r\nL 346.782297 19.361397 \r\nL 347.217724 19.115153 \r\nL 347.653151 19.422959 \r\nL 348.088578 17.145197 \r\nL 348.524006 17.083636 \r\nL 348.524006 17.083636 \r\n\" style=\"fill:none;stroke:#1f77b4;stroke-linecap:square;stroke-width:1.5;\"/>\r\n   </g>\r\n   <g id=\"patch_3\">\r\n    <path d=\"M 28.942188 224.64 \r\nL 28.942188 7.2 \r\n\" style=\"fill:none;stroke:#000000;stroke-linecap:square;stroke-linejoin:miter;stroke-width:0.8;\"/>\r\n   </g>\r\n   <g id=\"patch_4\">\r\n    <path d=\"M 363.742188 224.64 \r\nL 363.742188 7.2 \r\n\" style=\"fill:none;stroke:#000000;stroke-linecap:square;stroke-linejoin:miter;stroke-width:0.8;\"/>\r\n   </g>\r\n   <g id=\"patch_5\">\r\n    <path d=\"M 28.942188 224.64 \r\nL 363.742188 224.64 \r\n\" style=\"fill:none;stroke:#000000;stroke-linecap:square;stroke-linejoin:miter;stroke-width:0.8;\"/>\r\n   </g>\r\n   <g id=\"patch_6\">\r\n    <path d=\"M 28.942188 7.2 \r\nL 363.742188 7.2 \r\n\" style=\"fill:none;stroke:#000000;stroke-linecap:square;stroke-linejoin:miter;stroke-width:0.8;\"/>\r\n   </g>\r\n  </g>\r\n </g>\r\n <defs>\r\n  <clipPath id=\"ped28c38453\">\r\n   <rect height=\"217.44\" width=\"334.8\" x=\"28.942188\" y=\"7.2\"/>\r\n  </clipPath>\r\n </defs>\r\n</svg>\r\n",
      "image/png": "[encoded data removed]"
     },
     "metadata": {
      "needs_background": "light"
     }
    }
   ],
   "source": [
    "# Call your function here\n",
    "plot_raw(df)"
   ]
  },
  {
   "cell_type": "code",
   "execution_count": 13,
   "metadata": {},
   "outputs": [],
   "source": [
    "def plot_coloured(dataframe):\n",
    "    \"\"\"\n",
    "        Function 2: plot_coloured(dataframe)\n",
    "        Parameters: dataframe: Stress data DataFrame\n",
    "        Output: Plot\n",
    "    \"\"\"\n",
    "    one=[]\n",
    "    zero=[]\n",
    "   \n",
    "    for i in range(len(dataframe)):\n",
    "        t=dataframe['BINARY'][i]\n",
    "        if(t==1):\n",
    "            one.append(dataframe['RESP'][i])\n",
    "        else:\n",
    "            zero.append(dataframe['RESP'][i])\n",
    "       \n",
    "    df1=pd.DataFrame(one,columns=['RESP1'])\n",
    "    df0=pd.DataFrame(zero,columns=['RESP0'])\n",
    "    plt.plot(df1['RESP1'])\n",
    "    plt.plot(df0['RESP0'])\n",
    "    \n",
    "    \n",
    "    "
   ]
  },
  {
   "cell_type": "code",
   "execution_count": 14,
   "metadata": {
    "tags": []
   },
   "outputs": [
    {
     "output_type": "display_data",
     "data": {
      "text/plain": "<Figure size 432x288 with 1 Axes>",
      "image/svg+xml": "<?xml version=\"1.0\" encoding=\"utf-8\" standalone=\"no\"?>\r\n<!DOCTYPE svg PUBLIC \"-//W3C//DTD SVG 1.1//EN\"\r\n  \"http://www.w3.org/Graphics/SVG/1.1/DTD/svg11.dtd\">\r\n<!-- Created with matplotlib (https://matplotlib.org/) -->\r\n<svg height=\"248.518125pt\" version=\"1.1\" viewBox=\"0 0 370.942187 248.518125\" width=\"370.942187pt\" xmlns=\"http://www.w3.org/2000/svg\" xmlns:xlink=\"http://www.w3.org/1999/xlink\">\r\n <defs>\r\n  <style type=\"text/css\">\r\n*{stroke-linecap:butt;stroke-linejoin:round;}\r\n  </style>\r\n </defs>\r\n <g id=\"figure_1\">\r\n  <g id=\"patch_1\">\r\n   <path d=\"M 0 248.518125 \r\nL 370.942187 248.518125 \r\nL 370.942187 0 \r\nL 0 0 \r\nz\r\n\" style=\"fill:none;\"/>\r\n  </g>\r\n  <g id=\"axes_1\">\r\n   <g id=\"patch_2\">\r\n    <path d=\"M 28.942188 224.64 \r\nL 363.742188 224.64 \r\nL 363.742188 7.2 \r\nL 28.942188 7.2 \r\nz\r\n\" style=\"fill:#ffffff;\"/>\r\n   </g>\r\n   <g id=\"matplotlib.axis_1\">\r\n    <g id=\"xtick_1\">\r\n     <g id=\"line2d_1\">\r\n      <defs>\r\n       <path d=\"M 0 0 \r\nL 0 3.5 \r\n\" id=\"m21e528b715\" style=\"stroke:#000000;stroke-width:0.8;\"/>\r\n      </defs>\r\n      <g>\r\n       <use style=\"stroke:#000000;stroke-width:0.8;\" x=\"44.160369\" xlink:href=\"#m21e528b715\" y=\"224.64\"/>\r\n      </g>\r\n     </g>\r\n     <g id=\"text_1\">\r\n      <!-- 0 -->\r\n      <defs>\r\n       <path d=\"M 31.78125 66.40625 \r\nQ 24.171875 66.40625 20.328125 58.90625 \r\nQ 16.5 51.421875 16.5 36.375 \r\nQ 16.5 21.390625 20.328125 13.890625 \r\nQ 24.171875 6.390625 31.78125 6.390625 \r\nQ 39.453125 6.390625 43.28125 13.890625 \r\nQ 47.125 21.390625 47.125 36.375 \r\nQ 47.125 51.421875 43.28125 58.90625 \r\nQ 39.453125 66.40625 31.78125 66.40625 \r\nz\r\nM 31.78125 74.21875 \r\nQ 44.046875 74.21875 50.515625 64.515625 \r\nQ 56.984375 54.828125 56.984375 36.375 \r\nQ 56.984375 17.96875 50.515625 8.265625 \r\nQ 44.046875 -1.421875 31.78125 -1.421875 \r\nQ 19.53125 -1.421875 13.0625 8.265625 \r\nQ 6.59375 17.96875 6.59375 36.375 \r\nQ 6.59375 54.828125 13.0625 64.515625 \r\nQ 19.53125 74.21875 31.78125 74.21875 \r\nz\r\n\" id=\"DejaVuSans-48\"/>\r\n      </defs>\r\n      <g transform=\"translate(40.979119 239.238437)scale(0.1 -0.1)\">\r\n       <use xlink:href=\"#DejaVuSans-48\"/>\r\n      </g>\r\n     </g>\r\n    </g>\r\n    <g id=\"xtick_2\">\r\n     <g id=\"line2d_2\">\r\n      <g>\r\n       <use style=\"stroke:#000000;stroke-width:0.8;\" x=\"94.972329\" xlink:href=\"#m21e528b715\" y=\"224.64\"/>\r\n      </g>\r\n     </g>\r\n     <g id=\"text_2\">\r\n      <!-- 100 -->\r\n      <defs>\r\n       <path d=\"M 12.40625 8.296875 \r\nL 28.515625 8.296875 \r\nL 28.515625 63.921875 \r\nL 10.984375 60.40625 \r\nL 10.984375 69.390625 \r\nL 28.421875 72.90625 \r\nL 38.28125 72.90625 \r\nL 38.28125 8.296875 \r\nL 54.390625 8.296875 \r\nL 54.390625 0 \r\nL 12.40625 0 \r\nz\r\n\" id=\"DejaVuSans-49\"/>\r\n      </defs>\r\n      <g transform=\"translate(85.428579 239.238437)scale(0.1 -0.1)\">\r\n       <use xlink:href=\"#DejaVuSans-49\"/>\r\n       <use x=\"63.623047\" xlink:href=\"#DejaVuSans-48\"/>\r\n       <use x=\"127.246094\" xlink:href=\"#DejaVuSans-48\"/>\r\n      </g>\r\n     </g>\r\n    </g>\r\n    <g id=\"xtick_3\">\r\n     <g id=\"line2d_3\">\r\n      <g>\r\n       <use style=\"stroke:#000000;stroke-width:0.8;\" x=\"145.784288\" xlink:href=\"#m21e528b715\" y=\"224.64\"/>\r\n      </g>\r\n     </g>\r\n     <g id=\"text_3\">\r\n      <!-- 200 -->\r\n      <defs>\r\n       <path d=\"M 19.1875 8.296875 \r\nL 53.609375 8.296875 \r\nL 53.609375 0 \r\nL 7.328125 0 \r\nL 7.328125 8.296875 \r\nQ 12.9375 14.109375 22.625 23.890625 \r\nQ 32.328125 33.6875 34.8125 36.53125 \r\nQ 39.546875 41.84375 41.421875 45.53125 \r\nQ 43.3125 49.21875 43.3125 52.78125 \r\nQ 43.3125 58.59375 39.234375 62.25 \r\nQ 35.15625 65.921875 28.609375 65.921875 \r\nQ 23.96875 65.921875 18.8125 64.3125 \r\nQ 13.671875 62.703125 7.8125 59.421875 \r\nL 7.8125 69.390625 \r\nQ 13.765625 71.78125 18.9375 73 \r\nQ 24.125 74.21875 28.421875 74.21875 \r\nQ 39.75 74.21875 46.484375 68.546875 \r\nQ 53.21875 62.890625 53.21875 53.421875 \r\nQ 53.21875 48.921875 51.53125 44.890625 \r\nQ 49.859375 40.875 45.40625 35.40625 \r\nQ 44.1875 33.984375 37.640625 27.21875 \r\nQ 31.109375 20.453125 19.1875 8.296875 \r\nz\r\n\" id=\"DejaVuSans-50\"/>\r\n      </defs>\r\n      <g transform=\"translate(136.240538 239.238437)scale(0.1 -0.1)\">\r\n       <use xlink:href=\"#DejaVuSans-50\"/>\r\n       <use x=\"63.623047\" xlink:href=\"#DejaVuSans-48\"/>\r\n       <use x=\"127.246094\" xlink:href=\"#DejaVuSans-48\"/>\r\n      </g>\r\n     </g>\r\n    </g>\r\n    <g id=\"xtick_4\">\r\n     <g id=\"line2d_4\">\r\n      <g>\r\n       <use style=\"stroke:#000000;stroke-width:0.8;\" x=\"196.596247\" xlink:href=\"#m21e528b715\" y=\"224.64\"/>\r\n      </g>\r\n     </g>\r\n     <g id=\"text_4\">\r\n      <!-- 300 -->\r\n      <defs>\r\n       <path d=\"M 40.578125 39.3125 \r\nQ 47.65625 37.796875 51.625 33 \r\nQ 55.609375 28.21875 55.609375 21.1875 \r\nQ 55.609375 10.40625 48.1875 4.484375 \r\nQ 40.765625 -1.421875 27.09375 -1.421875 \r\nQ 22.515625 -1.421875 17.65625 -0.515625 \r\nQ 12.796875 0.390625 7.625 2.203125 \r\nL 7.625 11.71875 \r\nQ 11.71875 9.328125 16.59375 8.109375 \r\nQ 21.484375 6.890625 26.8125 6.890625 \r\nQ 36.078125 6.890625 40.9375 10.546875 \r\nQ 45.796875 14.203125 45.796875 21.1875 \r\nQ 45.796875 27.640625 41.28125 31.265625 \r\nQ 36.765625 34.90625 28.71875 34.90625 \r\nL 20.21875 34.90625 \r\nL 20.21875 43.015625 \r\nL 29.109375 43.015625 \r\nQ 36.375 43.015625 40.234375 45.921875 \r\nQ 44.09375 48.828125 44.09375 54.296875 \r\nQ 44.09375 59.90625 40.109375 62.90625 \r\nQ 36.140625 65.921875 28.71875 65.921875 \r\nQ 24.65625 65.921875 20.015625 65.03125 \r\nQ 15.375 64.15625 9.8125 62.3125 \r\nL 9.8125 71.09375 \r\nQ 15.4375 72.65625 20.34375 73.4375 \r\nQ 25.25 74.21875 29.59375 74.21875 \r\nQ 40.828125 74.21875 47.359375 69.109375 \r\nQ 53.90625 64.015625 53.90625 55.328125 \r\nQ 53.90625 49.265625 50.4375 45.09375 \r\nQ 46.96875 40.921875 40.578125 39.3125 \r\nz\r\n\" id=\"DejaVuSans-51\"/>\r\n      </defs>\r\n      <g transform=\"translate(187.052497 239.238437)scale(0.1 -0.1)\">\r\n       <use xlink:href=\"#DejaVuSans-51\"/>\r\n       <use x=\"63.623047\" xlink:href=\"#DejaVuSans-48\"/>\r\n       <use x=\"127.246094\" xlink:href=\"#DejaVuSans-48\"/>\r\n      </g>\r\n     </g>\r\n    </g>\r\n    <g id=\"xtick_5\">\r\n     <g id=\"line2d_5\">\r\n      <g>\r\n       <use style=\"stroke:#000000;stroke-width:0.8;\" x=\"247.408207\" xlink:href=\"#m21e528b715\" y=\"224.64\"/>\r\n      </g>\r\n     </g>\r\n     <g id=\"text_5\">\r\n      <!-- 400 -->\r\n      <defs>\r\n       <path d=\"M 37.796875 64.3125 \r\nL 12.890625 25.390625 \r\nL 37.796875 25.390625 \r\nz\r\nM 35.203125 72.90625 \r\nL 47.609375 72.90625 \r\nL 47.609375 25.390625 \r\nL 58.015625 25.390625 \r\nL 58.015625 17.1875 \r\nL 47.609375 17.1875 \r\nL 47.609375 0 \r\nL 37.796875 0 \r\nL 37.796875 17.1875 \r\nL 4.890625 17.1875 \r\nL 4.890625 26.703125 \r\nz\r\n\" id=\"DejaVuSans-52\"/>\r\n      </defs>\r\n      <g transform=\"translate(237.864457 239.238437)scale(0.1 -0.1)\">\r\n       <use xlink:href=\"#DejaVuSans-52\"/>\r\n       <use x=\"63.623047\" xlink:href=\"#DejaVuSans-48\"/>\r\n       <use x=\"127.246094\" xlink:href=\"#DejaVuSans-48\"/>\r\n      </g>\r\n     </g>\r\n    </g>\r\n    <g id=\"xtick_6\">\r\n     <g id=\"line2d_6\">\r\n      <g>\r\n       <use style=\"stroke:#000000;stroke-width:0.8;\" x=\"298.220166\" xlink:href=\"#m21e528b715\" y=\"224.64\"/>\r\n      </g>\r\n     </g>\r\n     <g id=\"text_6\">\r\n      <!-- 500 -->\r\n      <defs>\r\n       <path d=\"M 10.796875 72.90625 \r\nL 49.515625 72.90625 \r\nL 49.515625 64.59375 \r\nL 19.828125 64.59375 \r\nL 19.828125 46.734375 \r\nQ 21.96875 47.46875 24.109375 47.828125 \r\nQ 26.265625 48.1875 28.421875 48.1875 \r\nQ 40.625 48.1875 47.75 41.5 \r\nQ 54.890625 34.8125 54.890625 23.390625 \r\nQ 54.890625 11.625 47.5625 5.09375 \r\nQ 40.234375 -1.421875 26.90625 -1.421875 \r\nQ 22.3125 -1.421875 17.546875 -0.640625 \r\nQ 12.796875 0.140625 7.71875 1.703125 \r\nL 7.71875 11.625 \r\nQ 12.109375 9.234375 16.796875 8.0625 \r\nQ 21.484375 6.890625 26.703125 6.890625 \r\nQ 35.15625 6.890625 40.078125 11.328125 \r\nQ 45.015625 15.765625 45.015625 23.390625 \r\nQ 45.015625 31 40.078125 35.4375 \r\nQ 35.15625 39.890625 26.703125 39.890625 \r\nQ 22.75 39.890625 18.8125 39.015625 \r\nQ 14.890625 38.140625 10.796875 36.28125 \r\nz\r\n\" id=\"DejaVuSans-53\"/>\r\n      </defs>\r\n      <g transform=\"translate(288.676416 239.238437)scale(0.1 -0.1)\">\r\n       <use xlink:href=\"#DejaVuSans-53\"/>\r\n       <use x=\"63.623047\" xlink:href=\"#DejaVuSans-48\"/>\r\n       <use x=\"127.246094\" xlink:href=\"#DejaVuSans-48\"/>\r\n      </g>\r\n     </g>\r\n    </g>\r\n    <g id=\"xtick_7\">\r\n     <g id=\"line2d_7\">\r\n      <g>\r\n       <use style=\"stroke:#000000;stroke-width:0.8;\" x=\"349.032125\" xlink:href=\"#m21e528b715\" y=\"224.64\"/>\r\n      </g>\r\n     </g>\r\n     <g id=\"text_7\">\r\n      <!-- 600 -->\r\n      <defs>\r\n       <path d=\"M 33.015625 40.375 \r\nQ 26.375 40.375 22.484375 35.828125 \r\nQ 18.609375 31.296875 18.609375 23.390625 \r\nQ 18.609375 15.53125 22.484375 10.953125 \r\nQ 26.375 6.390625 33.015625 6.390625 \r\nQ 39.65625 6.390625 43.53125 10.953125 \r\nQ 47.40625 15.53125 47.40625 23.390625 \r\nQ 47.40625 31.296875 43.53125 35.828125 \r\nQ 39.65625 40.375 33.015625 40.375 \r\nz\r\nM 52.59375 71.296875 \r\nL 52.59375 62.3125 \r\nQ 48.875 64.0625 45.09375 64.984375 \r\nQ 41.3125 65.921875 37.59375 65.921875 \r\nQ 27.828125 65.921875 22.671875 59.328125 \r\nQ 17.53125 52.734375 16.796875 39.40625 \r\nQ 19.671875 43.65625 24.015625 45.921875 \r\nQ 28.375 48.1875 33.59375 48.1875 \r\nQ 44.578125 48.1875 50.953125 41.515625 \r\nQ 57.328125 34.859375 57.328125 23.390625 \r\nQ 57.328125 12.15625 50.6875 5.359375 \r\nQ 44.046875 -1.421875 33.015625 -1.421875 \r\nQ 20.359375 -1.421875 13.671875 8.265625 \r\nQ 6.984375 17.96875 6.984375 36.375 \r\nQ 6.984375 53.65625 15.1875 63.9375 \r\nQ 23.390625 74.21875 37.203125 74.21875 \r\nQ 40.921875 74.21875 44.703125 73.484375 \r\nQ 48.484375 72.75 52.59375 71.296875 \r\nz\r\n\" id=\"DejaVuSans-54\"/>\r\n      </defs>\r\n      <g transform=\"translate(339.488375 239.238437)scale(0.1 -0.1)\">\r\n       <use xlink:href=\"#DejaVuSans-54\"/>\r\n       <use x=\"63.623047\" xlink:href=\"#DejaVuSans-48\"/>\r\n       <use x=\"127.246094\" xlink:href=\"#DejaVuSans-48\"/>\r\n      </g>\r\n     </g>\r\n    </g>\r\n   </g>\r\n   <g id=\"matplotlib.axis_2\">\r\n    <g id=\"ytick_1\">\r\n     <g id=\"line2d_8\">\r\n      <defs>\r\n       <path d=\"M 0 0 \r\nL -3.5 0 \r\n\" id=\"m1bbf62a12c\" style=\"stroke:#000000;stroke-width:0.8;\"/>\r\n      </defs>\r\n      <g>\r\n       <use style=\"stroke:#000000;stroke-width:0.8;\" x=\"28.942188\" xlink:href=\"#m1bbf62a12c\" y=\"192.823371\"/>\r\n      </g>\r\n     </g>\r\n     <g id=\"text_8\">\r\n      <!-- −2 -->\r\n      <defs>\r\n       <path d=\"M 10.59375 35.5 \r\nL 73.1875 35.5 \r\nL 73.1875 27.203125 \r\nL 10.59375 27.203125 \r\nz\r\n\" id=\"DejaVuSans-8722\"/>\r\n      </defs>\r\n      <g transform=\"translate(7.2 196.62259)scale(0.1 -0.1)\">\r\n       <use xlink:href=\"#DejaVuSans-8722\"/>\r\n       <use x=\"83.789062\" xlink:href=\"#DejaVuSans-50\"/>\r\n      </g>\r\n     </g>\r\n    </g>\r\n    <g id=\"ytick_2\">\r\n     <g id=\"line2d_9\">\r\n      <g>\r\n       <use style=\"stroke:#000000;stroke-width:0.8;\" x=\"28.942188\" xlink:href=\"#m1bbf62a12c\" y=\"152.478681\"/>\r\n      </g>\r\n     </g>\r\n     <g id=\"text_9\">\r\n      <!-- −1 -->\r\n      <g transform=\"translate(7.2 156.2779)scale(0.1 -0.1)\">\r\n       <use xlink:href=\"#DejaVuSans-8722\"/>\r\n       <use x=\"83.789062\" xlink:href=\"#DejaVuSans-49\"/>\r\n      </g>\r\n     </g>\r\n    </g>\r\n    <g id=\"ytick_3\">\r\n     <g id=\"line2d_10\">\r\n      <g>\r\n       <use style=\"stroke:#000000;stroke-width:0.8;\" x=\"28.942188\" xlink:href=\"#m1bbf62a12c\" y=\"112.133992\"/>\r\n      </g>\r\n     </g>\r\n     <g id=\"text_10\">\r\n      <!-- 0 -->\r\n      <g transform=\"translate(15.579688 115.93321)scale(0.1 -0.1)\">\r\n       <use xlink:href=\"#DejaVuSans-48\"/>\r\n      </g>\r\n     </g>\r\n    </g>\r\n    <g id=\"ytick_4\">\r\n     <g id=\"line2d_11\">\r\n      <g>\r\n       <use style=\"stroke:#000000;stroke-width:0.8;\" x=\"28.942188\" xlink:href=\"#m1bbf62a12c\" y=\"71.789302\"/>\r\n      </g>\r\n     </g>\r\n     <g id=\"text_11\">\r\n      <!-- 1 -->\r\n      <g transform=\"translate(15.579688 75.588521)scale(0.1 -0.1)\">\r\n       <use xlink:href=\"#DejaVuSans-49\"/>\r\n      </g>\r\n     </g>\r\n    </g>\r\n    <g id=\"ytick_5\">\r\n     <g id=\"line2d_12\">\r\n      <g>\r\n       <use style=\"stroke:#000000;stroke-width:0.8;\" x=\"28.942188\" xlink:href=\"#m1bbf62a12c\" y=\"31.444612\"/>\r\n      </g>\r\n     </g>\r\n     <g id=\"text_12\">\r\n      <!-- 2 -->\r\n      <g transform=\"translate(15.579688 35.243831)scale(0.1 -0.1)\">\r\n       <use xlink:href=\"#DejaVuSans-50\"/>\r\n      </g>\r\n     </g>\r\n    </g>\r\n   </g>\r\n   <g id=\"line2d_13\">\r\n    <path clip-path=\"url(#pd913180a08)\" d=\"M 44.160369 161.444442 \r\nL 44.668489 160.644147 \r\nL 45.176609 161.444442 \r\nL 45.684728 161.690686 \r\nL 46.192848 160.951953 \r\nL 46.700967 161.259758 \r\nL 47.209087 160.151658 \r\nL 47.717206 177.942819 \r\nL 48.225326 159.659169 \r\nL 48.733446 160.82883 \r\nL 49.241565 159.474486 \r\nL 49.749685 160.459464 \r\nL 50.257804 160.582586 \r\nL 50.765924 159.905414 \r\nL 51.274044 160.705708 \r\nL 51.782163 160.028536 \r\nL 52.290283 158.61263 \r\nL 52.798402 159.474486 \r\nL 53.306522 159.597608 \r\nL 53.814642 159.289803 \r\nL 54.322761 159.16668 \r\nL 54.830881 157.627653 \r\nL 55.339 158.981997 \r\nL 55.84712 158.366386 \r\nL 56.35524 157.381408 \r\nL 56.863359 157.997019 \r\nL 57.371479 157.012042 \r\nL 57.879598 157.873897 \r\nL 58.387718 157.381408 \r\nL 58.895838 158.243264 \r\nL 59.403957 157.627653 \r\nL 59.912077 162.737225 \r\nL 60.420196 157.012042 \r\nL 60.928316 157.196725 \r\nL 61.436435 156.95048 \r\nL 61.944555 164.70718 \r\nL 62.452675 157.012042 \r\nL 62.960794 155.657697 \r\nL 63.468914 167.600553 \r\nL 63.977033 156.027064 \r\nL 64.485153 155.226769 \r\nL 64.993273 156.273308 \r\nL 65.501392 155.657697 \r\nL 66.009512 156.273308 \r\nL 66.517631 155.165208 \r\nL 67.025751 155.780819 \r\nL 67.533871 154.241792 \r\nL 68.04199 155.226769 \r\nL 68.55011 154.980525 \r\nL 69.058229 154.426475 \r\nL 69.566349 155.042086 \r\nL 70.074469 154.364914 \r\nL 70.582588 154.241792 \r\nL 71.090708 153.256814 \r\nL 71.598827 154.118669 \r\nL 72.106947 154.241792 \r\nL 72.615067 154.364914 \r\nL 73.123186 154.118669 \r\nL 73.631306 152.949008 \r\nL 74.139425 153.441497 \r\nL 74.647545 153.256814 \r\nL 75.155665 151.96403 \r\nL 75.663784 153.07213 \r\nL 76.171904 151.594664 \r\nL 76.680023 153.195253 \r\nL 77.188143 151.225297 \r\nL 77.696262 152.702764 \r\nL 78.204382 153.010569 \r\nL 78.712502 152.271836 \r\nL 79.220621 151.225297 \r\nL 79.728741 155.780819 \r\nL 80.23686 151.348419 \r\nL 80.74498 151.96403 \r\nL 81.2531 151.594664 \r\nL 81.761219 151.471542 \r\nL 82.269339 150.240319 \r\nL 82.777458 150.486564 \r\nL 83.285578 151.163736 \r\nL 83.793698 151.286858 \r\nL 84.301817 149.624708 \r\nL 84.809937 150.240319 \r\nL 85.318056 149.994075 \r\nL 85.826176 150.30188 \r\nL 86.334296 149.686269 \r\nL 86.842415 164.768742 \r\nL 87.350535 149.255342 \r\nL 87.858654 149.624708 \r\nL 88.366774 149.255342 \r\nL 88.874894 147.900997 \r\nL 89.383013 147.53163 \r\nL 89.891133 147.777875 \r\nL 90.399252 148.270364 \r\nL 90.907372 148.393486 \r\nL 91.415491 147.654753 \r\nL 91.923611 148.516608 \r\nL 92.431731 147.777875 \r\nL 92.93985 147.654753 \r\nL 93.44797 147.962558 \r\nL 93.956089 148.024119 \r\nL 94.464209 147.039142 \r\n\" style=\"fill:none;stroke:#1f77b4;stroke-linecap:square;stroke-width:1.5;\"/>\r\n   </g>\r\n   <g id=\"line2d_14\">\r\n    <path clip-path=\"url(#pd913180a08)\" d=\"M 44.160369 158.489508 \r\nL 44.668489 157.50453 \r\nL 45.176609 158.61263 \r\nL 46.192848 158.981997 \r\nL 46.700967 159.16668 \r\nL 47.209087 157.689214 \r\nL 47.717206 158.674192 \r\nL 48.225326 158.61263 \r\nL 48.733446 161.321319 \r\nL 49.241565 158.489508 \r\nL 49.749685 159.105119 \r\nL 50.257804 159.536047 \r\nL 50.765924 159.536047 \r\nL 51.274044 159.843853 \r\nL 51.782163 158.981997 \r\nL 52.290283 158.61263 \r\nL 52.798402 159.351364 \r\nL 53.306522 159.105119 \r\nL 53.814642 159.597608 \r\nL 54.322761 163.291275 \r\nL 54.830881 159.412925 \r\nL 55.339 159.659169 \r\nL 55.84712 158.489508 \r\nL 56.35524 159.843853 \r\nL 56.863359 159.597608 \r\nL 57.371479 158.981997 \r\nL 57.879598 159.843853 \r\nL 58.387718 159.597608 \r\nL 58.895838 159.966975 \r\nL 59.403957 159.043558 \r\nL 59.912077 166.123086 \r\nL 60.420196 159.966975 \r\nL 60.928316 158.981997 \r\nL 61.436435 160.27478 \r\nL 61.944555 160.090097 \r\nL 62.960794 160.705708 \r\nL 63.468914 160.213219 \r\nL 63.977033 159.536047 \r\nL 64.485153 168.462408 \r\nL 64.993273 158.858875 \r\nL 65.501392 160.336342 \r\nL 66.009512 160.82883 \r\nL 67.025751 160.459464 \r\nL 67.533871 159.659169 \r\nL 68.04199 167.231186 \r\nL 68.55011 160.644147 \r\nL 69.058229 160.459464 \r\nL 69.566349 160.582586 \r\nL 70.074469 160.151658 \r\nL 70.582588 166.861819 \r\nL 71.090708 160.705708 \r\nL 71.598827 159.351364 \r\nL 72.106947 160.767269 \r\nL 72.615067 160.151658 \r\nL 73.123186 160.459464 \r\nL 73.631306 159.843853 \r\nL 74.139425 159.843853 \r\nL 74.647545 160.582586 \r\nL 75.155665 160.028536 \r\nL 75.663784 160.951953 \r\nL 76.171904 159.966975 \r\nL 76.680023 160.951953 \r\nL 77.188143 159.72073 \r\nL 77.696262 160.951953 \r\nL 78.204382 161.075075 \r\nL 78.712502 160.090097 \r\nL 79.220621 163.229714 \r\nL 79.728741 160.705708 \r\nL 80.23686 160.090097 \r\nL 81.2531 161.075075 \r\nL 81.761219 161.075075 \r\nL 82.269339 159.843853 \r\nL 82.777458 160.336342 \r\nL 83.285578 159.597608 \r\nL 83.793698 160.336342 \r\nL 84.301817 159.72073 \r\nL 84.809937 160.951953 \r\nL 85.318056 160.459464 \r\nL 85.826176 160.459464 \r\nL 86.334296 160.951953 \r\nL 86.842415 160.151658 \r\nL 87.350535 162.552542 \r\nL 87.858654 159.351364 \r\nL 88.366774 160.767269 \r\nL 88.874894 159.72073 \r\nL 89.383013 160.459464 \r\nL 90.399252 160.644147 \r\nL 90.907372 160.459464 \r\nL 91.415491 159.474486 \r\nL 91.923611 160.27478 \r\nL 92.431731 159.474486 \r\nL 92.93985 160.705708 \r\nL 93.956089 159.16668 \r\nL 94.464209 160.336342 \r\nL 94.972329 64.054764 \r\nL 95.480448 66.147842 \r\nL 95.988568 66.086281 \r\nL 96.496687 65.532231 \r\nL 97.004807 66.394086 \r\nL 97.512927 66.270964 \r\nL 98.021046 67.13282 \r\nL 98.529166 66.270964 \r\nL 99.545405 68.487164 \r\nL 100.053525 67.748431 \r\nL 100.561644 68.487164 \r\nL 101.069764 69.533703 \r\nL 101.577883 69.472142 \r\nL 102.086003 68.487164 \r\nL 102.594123 69.34902 \r\nL 103.102242 83.138708 \r\nL 103.610362 70.703364 \r\nL 104.118481 70.949608 \r\nL 104.626601 70.703364 \r\nL 105.134721 70.026192 \r\nL 105.64284 71.996147 \r\nL 106.15096 72.611758 \r\nL 106.659079 71.626781 \r\nL 107.167199 73.165808 \r\nL 107.675318 72.488636 \r\nL 108.691558 73.78142 \r\nL 109.199677 73.473614 \r\nL 109.707797 75.135764 \r\nL 110.215916 75.320447 \r\nL 110.724036 74.397031 \r\nL 111.740275 75.382008 \r\nL 112.248395 76.613231 \r\nL 112.756514 76.120742 \r\nL 113.772754 77.906014 \r\nL 114.280873 76.859475 \r\nL 115.297112 79.32192 \r\nL 115.805232 79.691286 \r\nL 116.313352 78.460064 \r\nL 116.821471 79.691286 \r\nL 117.329591 80.491581 \r\nL 117.83771 80.43002 \r\nL 118.34583 80.98407 \r\nL 118.85395 84.431492 \r\nL 119.362069 81.107192 \r\nL 119.870189 82.523097 \r\nL 120.378308 82.399975 \r\nL 120.886428 81.661242 \r\nL 121.394547 83.138708 \r\nL 121.902667 83.815881 \r\nL 122.410787 84.000564 \r\nL 122.918906 85.170225 \r\nL 123.427026 85.108664 \r\nL 123.935145 85.231786 \r\nL 124.443265 84.739297 \r\nL 124.951385 90.833847 \r\nL 125.459504 86.463008 \r\nL 125.967624 87.386425 \r\nL 126.475743 87.694231 \r\nL 126.983863 86.955497 \r\nL 127.491983 87.324864 \r\nL 128.000102 89.171697 \r\nL 128.508222 88.309842 \r\nL 129.524461 90.218236 \r\nL 130.032581 90.033553 \r\nL 130.5407 90.587603 \r\nL 131.556939 92.126631 \r\nL 132.065059 91.634142 \r\nL 132.573179 92.865364 \r\nL 133.081298 92.865364 \r\nL 133.589418 92.61912 \r\nL 134.097537 94.096586 \r\nL 134.605657 93.17317 \r\nL 135.113777 94.835319 \r\nL 135.621896 95.081564 \r\nL 136.130016 95.881858 \r\nL 136.638135 96.066542 \r\nL 137.146255 96.559031 \r\nL 137.654374 97.297764 \r\nL 138.162494 96.312786 \r\nL 138.670614 97.974936 \r\nL 139.178733 97.544008 \r\nL 139.686853 121.552842 \r\nL 140.194972 99.390842 \r\nL 140.703092 100.498942 \r\nL 141.211212 100.498942 \r\nL 141.719331 99.760208 \r\nL 142.227451 101.483919 \r\nL 142.73557 100.868308 \r\nL 143.24369 102.037969 \r\nL 143.75181 101.853286 \r\nL 144.259929 103.084508 \r\nL 144.768049 102.961386 \r\nL 145.276168 103.515436 \r\nL 145.784288 109.548425 \r\nL 146.292408 109.425303 \r\nL 146.800527 108.748131 \r\nL 147.308647 109.240619 \r\nL 147.816766 108.132519 \r\nL 148.324886 109.548425 \r\nL 148.833006 108.932814 \r\nL 149.341125 109.055936 \r\nL 149.849245 108.994375 \r\nL 150.357364 109.794669 \r\nL 151.373603 108.748131 \r\nL 151.881723 108.932814 \r\nL 152.389843 109.363742 \r\nL 152.897962 108.871253 \r\nL 154.422321 108.994375 \r\nL 154.930441 108.255642 \r\nL 155.43856 108.378764 \r\nL 155.94668 108.255642 \r\nL 156.454799 108.009397 \r\nL 156.962919 107.947836 \r\nL 157.471039 108.871253 \r\nL 157.979158 109.117497 \r\nL 158.487278 108.871253 \r\nL 158.995397 108.932814 \r\nL 159.503517 108.871253 \r\nL 160.011637 109.425303 \r\nL 160.519756 107.947836 \r\nL 161.027876 107.947836 \r\nL 161.535995 108.994375 \r\nL 162.044115 108.625008 \r\nL 162.552235 129.001736 \r\nL 163.060354 107.824714 \r\nL 163.568474 107.578469 \r\nL 164.076593 108.748131 \r\nL 164.584713 108.378764 \r\nL 165.092833 108.440325 \r\nL 165.600952 107.270664 \r\nL 166.109072 107.578469 \r\nL 166.617191 108.748131 \r\nL 167.125311 108.748131 \r\nL 167.63343 107.393786 \r\nL 168.14155 108.625008 \r\nL 168.64967 108.748131 \r\nL 169.157789 107.763153 \r\nL 169.665909 107.147542 \r\nL 170.682148 108.440325 \r\nL 171.698387 108.378764 \r\nL 172.206507 108.255642 \r\nL 172.714626 108.378764 \r\nL 173.222746 108.132519 \r\nL 173.730866 117.243564 \r\nL 174.238985 107.393786 \r\nL 174.747105 107.578469 \r\nL 175.255224 108.440325 \r\nL 175.763344 108.932814 \r\nL 176.271464 107.640031 \r\nL 176.779583 108.132519 \r\nL 177.287703 107.763153 \r\nL 177.795822 106.593492 \r\nL 178.303942 108.009397 \r\nL 178.812062 108.009397 \r\nL 179.320181 106.901297 \r\nL 179.828301 106.655053 \r\nL 180.33642 106.778175 \r\nL 180.84454 108.132519 \r\nL 181.352659 107.640031 \r\nL 181.860779 107.516908 \r\nL 182.368899 108.009397 \r\nL 182.877018 107.516908 \r\nL 183.385138 106.285686 \r\nL 183.893257 107.516908 \r\nL 184.401377 107.332225 \r\nL 184.909497 106.778175 \r\nL 185.417616 126.600853 \r\nL 185.925736 108.132519 \r\nL 186.433855 106.901297 \r\nL 186.941975 107.270664 \r\nL 187.450095 106.039442 \r\nL 187.958214 108.748131 \r\nL 188.466334 107.332225 \r\nL 188.974453 107.947836 \r\nL 189.482573 107.147542 \r\nL 189.990693 105.977881 \r\nL 190.498812 106.408808 \r\nL 191.006932 123.522797 \r\nL 191.515051 107.455347 \r\nL 192.023171 107.886275 \r\nL 192.531291 113.980825 \r\nL 193.03941 106.470369 \r\nL 193.54753 106.593492 \r\nL 194.563769 107.147542 \r\nL 195.071889 106.162564 \r\nL 195.580008 105.423831 \r\nL 196.088128 106.962858 \r\nL 196.596247 202.197897 \r\nL 197.612486 200.843553 \r\nL 198.120606 201.520725 \r\nL 198.628726 200.16638 \r\nL 199.136845 200.597308 \r\nL 200.153084 202.136336 \r\nL 200.661204 201.582286 \r\nL 201.169324 201.82853 \r\nL 201.677443 201.459164 \r\nL 202.185563 199.981697 \r\nL 202.693682 214.756364 \r\nL 203.201802 201.212919 \r\nL 203.709922 200.535747 \r\nL 204.218041 199.489208 \r\nL 204.726161 200.966675 \r\nL 205.23428 203.429119 \r\nL 205.7424 200.043258 \r\nL 206.25052 200.966675 \r\nL 207.266759 200.227941 \r\nL 207.774878 200.043258 \r\nL 208.282998 199.05828 \r\nL 208.791118 200.351064 \r\nL 209.299237 201.212919 \r\nL 210.315476 198.873597 \r\nL 210.823596 200.351064 \r\nL 211.839835 198.565791 \r\nL 212.856074 199.489208 \r\nL 213.364194 200.597308 \r\nL 213.872313 198.812036 \r\nL 214.380433 207.122786 \r\nL 214.888553 198.996719 \r\nL 215.396672 199.61233 \r\nL 215.904792 198.50423 \r\nL 216.412911 198.381108 \r\nL 216.921031 198.750475 \r\nL 217.429151 198.873597 \r\nL 217.93727 198.812036 \r\nL 218.44539 197.273008 \r\nL 218.953509 198.627353 \r\nL 219.461629 199.181403 \r\nL 219.969749 198.565791 \r\nL 220.477868 197.149886 \r\nL 220.985988 198.381108 \r\nL 221.494107 196.595836 \r\nL 222.002227 197.703936 \r\nL 222.510347 197.519253 \r\nL 223.018466 196.903641 \r\nL 223.526586 197.703936 \r\nL 224.034705 196.534275 \r\nL 224.542825 198.50423 \r\nL 225.050945 197.273008 \r\nL 225.559064 197.026764 \r\nL 226.067184 195.549297 \r\nL 226.575303 197.519253 \r\nL 227.083423 195.857103 \r\nL 227.591542 196.903641 \r\nL 228.099662 197.519253 \r\nL 228.607782 196.595836 \r\nL 229.115901 196.903641 \r\nL 229.624021 195.303053 \r\nL 230.13214 196.472714 \r\nL 230.64026 196.595836 \r\nL 231.14838 195.795541 \r\nL 231.656499 196.472714 \r\nL 232.164619 194.810564 \r\nL 232.672738 196.103347 \r\nL 233.180858 195.610858 \r\nL 233.688978 195.426175 \r\nL 234.197097 195.672419 \r\nL 234.705217 195.426175 \r\nL 235.213336 195.918664 \r\nL 235.721456 194.933686 \r\nL 236.229576 195.056808 \r\nL 236.737695 195.487736 \r\nL 237.245815 212.35548 \r\nL 237.753934 194.933686 \r\nL 238.262054 193.948708 \r\nL 238.770174 195.056808 \r\nL 239.278293 195.241491 \r\nL 239.786413 194.194953 \r\nL 240.294532 194.995247 \r\nL 240.802652 193.456219 \r\nL 241.310772 194.194953 \r\nL 241.818891 194.07183 \r\nL 242.327011 194.256514 \r\nL 242.83513 193.702464 \r\nL 243.34325 194.256514 \r\nL 243.851369 194.318075 \r\nL 244.359489 193.640903 \r\nL 244.867609 193.209975 \r\nL 245.375728 194.318075 \r\nL 245.883848 193.948708 \r\nL 246.391967 192.840608 \r\nL 246.900087 192.840608 \r\nL 247.408207 148.516608 \r\nL 247.916326 153.318375 \r\nL 248.424446 147.408508 \r\nL 248.932565 146.916019 \r\nL 249.440685 147.039142 \r\nL 249.948805 145.86948 \r\nL 250.456924 145.684797 \r\nL 250.965044 146.300408 \r\nL 251.473163 146.300408 \r\nL 251.981283 149.563147 \r\nL 252.489403 145.561675 \r\nL 252.997522 144.268892 \r\nL 253.505642 144.699819 \r\nL 254.013761 163.414397 \r\nL 254.521881 143.591719 \r\nL 255.030001 143.09923 \r\nL 255.53812 143.591719 \r\nL 256.04624 143.714842 \r\nL 256.554359 143.407036 \r\nL 257.062479 149.255342 \r\nL 257.570598 142.114253 \r\nL 258.078718 142.237375 \r\nL 258.586838 141.868008 \r\nL 259.094957 141.99113 \r\nL 259.603077 140.32898 \r\nL 260.111196 141.129275 \r\nL 260.619316 146.361969 \r\nL 261.127436 140.144297 \r\nL 261.635555 139.282442 \r\nL 262.143675 139.959614 \r\nL 262.651794 139.282442 \r\nL 263.159914 139.77493 \r\nL 263.668034 138.051219 \r\nL 264.176153 138.420586 \r\nL 264.684273 138.482147 \r\nL 265.192392 138.297464 \r\nL 265.700512 138.297464 \r\nL 266.208632 136.573753 \r\nL 266.716751 137.127803 \r\nL 267.224871 136.943119 \r\nL 267.73299 136.327508 \r\nL 268.24111 136.142825 \r\nL 268.74923 135.588775 \r\nL 269.257349 134.850042 \r\nL 269.765469 135.465653 \r\nL 270.273588 135.219408 \r\nL 270.781708 134.542236 \r\nL 271.797947 134.111308 \r\nL 272.306067 133.003208 \r\nL 272.814186 133.495697 \r\nL 273.322306 133.249453 \r\nL 273.830425 132.141353 \r\nL 274.338545 132.572281 \r\nL 274.846665 136.081264 \r\nL 275.354784 133.003208 \r\nL 275.862904 133.249453 \r\nL 276.371023 130.910131 \r\nL 276.879143 130.048275 \r\nL 277.387263 129.432664 \r\nL 277.895382 130.109836 \r\nL 278.403502 129.925153 \r\nL 278.911621 128.324564 \r\nL 279.419741 128.201442 \r\nL 279.927861 128.324564 \r\nL 280.43598 128.570808 \r\nL 280.9441 127.216464 \r\nL 281.452219 126.970219 \r\nL 281.960339 126.970219 \r\nL 282.468459 127.216464 \r\nL 283.484698 126.785536 \r\nL 283.992817 125.492753 \r\nL 284.500937 125.985242 \r\nL 285.009057 125.369631 \r\nL 285.517176 125.492753 \r\nL 286.533415 124.877142 \r\nL 287.041535 123.892164 \r\nL 287.549654 123.214992 \r\nL 288.057774 123.645919 \r\nL 288.565894 122.045331 \r\nL 289.074013 123.214992 \r\nL 289.582133 122.537819 \r\nL 290.090252 122.168453 \r\nL 290.598372 121.245036 \r\nL 291.106492 121.675964 \r\nL 291.614611 120.567864 \r\nL 292.122731 121.060353 \r\nL 292.63085 120.814108 \r\nL 293.13897 123.707481 \r\nL 293.64709 118.782592 \r\nL 294.155209 119.582886 \r\nL 294.663329 119.767569 \r\nL 295.171448 118.105419 \r\nL 295.679568 118.290103 \r\nL 296.187688 118.597908 \r\nL 296.695807 117.797614 \r\nL 297.203927 117.489808 \r\nL 297.712046 116.135464 \r\nL 298.220166 112.318675 \r\nL 298.728286 111.703064 \r\nL 299.236405 109.856231 \r\nL 299.744525 109.240619 \r\nL 300.252644 107.763153 \r\nL 300.760764 106.655053 \r\nL 301.777003 105.177586 \r\nL 302.285123 104.931342 \r\nL 302.793242 103.207631 \r\nL 303.301362 102.592019 \r\nL 304.317601 100.806747 \r\nL 304.825721 99.206158 \r\nL 305.33384 98.098058 \r\nL 305.84196 97.544008 \r\nL 306.350079 96.435908 \r\nL 306.858199 93.973464 \r\nL 307.366319 94.158147 \r\nL 307.874438 93.357853 \r\nL 310.415036 88.125158 \r\nL 310.923156 88.063597 \r\nL 311.431275 86.401447 \r\nL 311.939395 83.815881 \r\nL 312.447515 84.123686 \r\nL 312.955634 83.446514 \r\nL 313.971873 81.784364 \r\nL 314.479993 79.814408 \r\nL 314.988113 78.829431 \r\nL 316.004352 76.182303 \r\nL 316.512471 76.243864 \r\nL 317.52871 73.966103 \r\nL 318.03683 71.811464 \r\nL 318.54495 71.318975 \r\nL 319.053069 71.503658 \r\nL 319.561189 70.333997 \r\nL 320.069308 71.318975 \r\nL 320.577428 69.225897 \r\nL 321.085548 69.533703 \r\nL 321.593667 65.039742 \r\nL 322.101787 64.424131 \r\nL 322.609906 64.301008 \r\nL 323.118026 63.316031 \r\nL 323.626146 68.364042 \r\nL 324.134265 60.48422 \r\nL 324.642385 68.856531 \r\nL 325.150504 59.37612 \r\nL 325.658624 57.898653 \r\nL 326.166744 56.05182 \r\nL 326.674863 56.236503 \r\nL 327.182983 75.44357 \r\nL 327.691102 54.820597 \r\nL 328.199222 67.994675 \r\nL 328.707342 52.973764 \r\nL 329.723581 50.696003 \r\nL 330.2317 50.265075 \r\nL 330.73982 47.371703 \r\nL 331.24794 47.18702 \r\nL 331.756059 46.386725 \r\nL 332.264179 46.509847 \r\nL 332.772298 43.678036 \r\nL 333.280418 43.985842 \r\nL 333.788537 43.000864 \r\nL 334.296657 57.036797 \r\nL 334.804777 41.400275 \r\nL 335.312896 38.999392 \r\nL 335.821016 39.184075 \r\nL 336.329135 38.630025 \r\nL 336.837255 44.108964 \r\nL 337.345375 35.736653 \r\nL 337.853494 35.490409 \r\nL 338.361614 33.766697 \r\nL 338.869733 32.78172 \r\nL 339.377853 32.904842 \r\nL 339.885973 30.750203 \r\nL 340.394092 30.319275 \r\nL 340.902212 30.319275 \r\nL 341.410331 29.334297 \r\nL 341.918451 27.610586 \r\nL 342.426571 27.672147 \r\nL 342.93469 26.625609 \r\nL 343.950929 25.394386 \r\nL 344.459049 23.609114 \r\nL 344.967169 23.239747 \r\nL 345.475288 21.70072 \r\nL 345.983408 31.304253 \r\nL 346.491527 19.361397 \r\nL 346.999647 19.115153 \r\nL 347.507766 19.422959 \r\nL 348.015886 17.145197 \r\nL 348.524006 17.083636 \r\nL 348.524006 17.083636 \r\n\" style=\"fill:none;stroke:#ff7f0e;stroke-linecap:square;stroke-width:1.5;\"/>\r\n   </g>\r\n   <g id=\"patch_3\">\r\n    <path d=\"M 28.942188 224.64 \r\nL 28.942188 7.2 \r\n\" style=\"fill:none;stroke:#000000;stroke-linecap:square;stroke-linejoin:miter;stroke-width:0.8;\"/>\r\n   </g>\r\n   <g id=\"patch_4\">\r\n    <path d=\"M 363.742188 224.64 \r\nL 363.742188 7.2 \r\n\" style=\"fill:none;stroke:#000000;stroke-linecap:square;stroke-linejoin:miter;stroke-width:0.8;\"/>\r\n   </g>\r\n   <g id=\"patch_5\">\r\n    <path d=\"M 28.942188 224.64 \r\nL 363.742188 224.64 \r\n\" style=\"fill:none;stroke:#000000;stroke-linecap:square;stroke-linejoin:miter;stroke-width:0.8;\"/>\r\n   </g>\r\n   <g id=\"patch_6\">\r\n    <path d=\"M 28.942188 7.2 \r\nL 363.742188 7.2 \r\n\" style=\"fill:none;stroke:#000000;stroke-linecap:square;stroke-linejoin:miter;stroke-width:0.8;\"/>\r\n   </g>\r\n  </g>\r\n </g>\r\n <defs>\r\n  <clipPath id=\"pd913180a08\">\r\n   <rect height=\"217.44\" width=\"334.8\" x=\"28.942188\" y=\"7.2\"/>\r\n  </clipPath>\r\n </defs>\r\n</svg>\r\n",
      "image/png": "[encoded data removed]"
     },
     "metadata": {
      "needs_background": "light"
     }
    }
   ],
   "source": [
    "# Call your function here\n",
    "plot_coloured(df)"
   ]
  },
  {
   "cell_type": "markdown",
   "metadata": {},
   "source": [
    "## Task 2"
   ]
  },
  {
   "cell_type": "markdown",
   "metadata": {},
   "source": [
    "Some simple file operations."
   ]
  },
  {
   "cell_type": "code",
   "execution_count": 15,
   "metadata": {},
   "outputs": [
    {
     "output_type": "execute_result",
     "data": {
      "text/plain": "'\\n    Generate a text file containing 50 integer elements between 1 and 20 (use `random`). \\n    Identify the unique numbers and the number of their occurrences, and write this into \\n    a new text file.\\n    \\n    Example\\n    -------\\n    \\n    Generated File\\n    --------------\\n    1 2 3 4 3 2 1 ...\\n    \\n    Count File\\n    ----------\\n    1 - 2\\n    2 - 2\\n    3 - 2\\n    4 - 1\\n    ...\\n'"
     },
     "metadata": {},
     "execution_count": 15
    }
   ],
   "source": [
    "\"\"\"\n",
    "    Generate a text file containing 50 integer elements between 1 and 20 (use `random`). \n",
    "    Identify the unique numbers and the number of their occurrences, and write this into \n",
    "    a new text file.\n",
    "    \n",
    "    Example\n",
    "    -------\n",
    "    \n",
    "    Generated File\n",
    "    --------------\n",
    "    1 2 3 4 3 2 1 ...\n",
    "    \n",
    "    Count File\n",
    "    ----------\n",
    "    1 - 2\n",
    "    2 - 2\n",
    "    3 - 2\n",
    "    4 - 1\n",
    "    ...\n",
    "\"\"\""
   ]
  },
  {
   "cell_type": "code",
   "execution_count": 16,
   "metadata": {},
   "outputs": [],
   "source": [
    "import random\n",
    "def random_numbers():\n",
    "    \"\"\"\n",
    "        Function: random_numbers()\n",
    "        Save: `Numbers.txt` containing the 50 integers,\n",
    "              `Count.txt` containing the count of unique integers\n",
    "    \"\"\"\n",
    "    count_dict=dict()\n",
    "    f=open(\"Numbers.txt\",\"w\")\n",
    "    for i in range(50):\n",
    "        f.write(str(random.randint(0,50)))\n",
    "        f.write(\" \")\n",
    "    #f.write(\"\\n\")\n",
    "    f.close()\n",
    "    f=open(\"Numbers.txt\",\"r\")\n",
    "    temp=f.readline()\n",
    "    f.close()\n",
    "    t=list(temp.split(' '))\n",
    "    t.pop()\n",
    "    print(t)\n",
    "    for i in t:\n",
    "        if(i in count_dict):\n",
    "            count_dict[i]+=1\n",
    "        else:\n",
    "            count_dict[i]=1\n",
    "    f=open(\"Count.txt\",\"w\")\n",
    "    for i in count_dict:\n",
    "        f.write(i)\n",
    "        f.write(\" - \")\n",
    "        f.write(str(count_dict[i]))\n",
    "        f.write(\"\\n\")\n",
    "        print(i,\" -- \",count_dict[i])\n",
    "    f.close()\n",
    "    \n",
    "\n",
    "   \n",
    "    \n",
    " "
   ]
  },
  {
   "cell_type": "code",
   "execution_count": 17,
   "metadata": {
    "tags": []
   },
   "outputs": [
    {
     "output_type": "stream",
     "name": "stdout",
     "text": "['31', '10', '15', '39', '32', '15', '42', '2', '44', '9', '11', '44', '25', '50', '20', '42', '9', '7', '25', '0', '5', '20', '8', '10', '31', '20', '46', '17', '31', '12', '38', '4', '44', '28', '12', '22', '9', '45', '27', '44', '22', '8', '36', '8', '40', '27', '23', '43', '48', '0']\n31  --  3\n10  --  2\n15  --  2\n39  --  1\n32  --  1\n42  --  2\n2  --  1\n44  --  4\n9  --  3\n11  --  1\n25  --  2\n50  --  1\n20  --  3\n7  --  1\n0  --  2\n5  --  1\n8  --  3\n46  --  1\n17  --  1\n12  --  2\n38  --  1\n4  --  1\n28  --  1\n22  --  2\n45  --  1\n27  --  2\n36  --  1\n40  --  1\n23  --  1\n43  --  1\n48  --  1\n"
    }
   ],
   "source": [
    "# Call your function here\n",
    "random_numbers()"
   ]
  },
  {
   "cell_type": "markdown",
   "metadata": {},
   "source": [
    "Once you're done, move on to Module 3. Great job!"
   ]
  }
 ],
 "metadata": {
  "kernelspec": {
   "display_name": "Python 3",
   "language": "python",
   "name": "python3"
  },
  "language_info": {
   "codemirror_mode": {
    "name": "ipython",
    "version": 3
   },
   "file_extension": ".py",
   "mimetype": "text/x-python",
   "name": "python",
   "nbconvert_exporter": "python",
   "pygments_lexer": "ipython3",
   "version": "3.8.0"
  }
 },
 "nbformat": 4,
 "nbformat_minor": 2
}